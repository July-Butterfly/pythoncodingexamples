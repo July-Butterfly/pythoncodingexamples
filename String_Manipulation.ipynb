{
  "nbformat": 4,
  "nbformat_minor": 0,
  "metadata": {
    "colab": {
      "provenance": [],
      "include_colab_link": true
    },
    "kernelspec": {
      "name": "python3",
      "display_name": "Python 3"
    },
    "language_info": {
      "name": "python"
    }
  },
  "cells": [
    {
      "cell_type": "markdown",
      "metadata": {
        "id": "view-in-github",
        "colab_type": "text"
      },
      "source": [
        "<a href=\"https://colab.research.google.com/github/July-Butterfly/pythoncodingexamples/blob/main/String_Manipulation.ipynb\" target=\"_parent\"><img src=\"https://colab.research.google.com/assets/colab-badge.svg\" alt=\"Open In Colab\"/></a>"
      ]
    },
    {
      "cell_type": "markdown",
      "source": [
        "**String Manipulation in Python**\n",
        "\n",
        "To manipulate strings, we can use some of Pythons built-in methods.\n",
        "\n"
      ],
      "metadata": {
        "id": "EStAK3YXpMtk"
      }
    },
    {
      "cell_type": "markdown",
      "source": [
        "Create a String\n",
        "To create a string with given characters, you can assign the characters to a variable after enclosing them in double quotes or single quotes as shown below."
      ],
      "metadata": {
        "id": "P62fIPLVprZQ"
      }
    },
    {
      "cell_type": "code",
      "execution_count": null,
      "metadata": {
        "colab": {
          "base_uri": "https://localhost:8080/"
        },
        "id": "lxxkFmtMo3lT",
        "outputId": "3bf76696-3a54-4268-c5fd-41b824ff28cb"
      },
      "outputs": [
        {
          "output_type": "stream",
          "name": "stdout",
          "text": [
            "<class 'str'>\n",
            "<class 'str'>\n",
            "<class 'str'>\n"
          ]
        }
      ],
      "source": [
        "text = 'Hello World'\n",
        "mystring = \"Hello World\"\n",
        "mynumber = str(12345)\n",
        "\n",
        "print(type(text))\n",
        "print(type(mystring))\n",
        "print(type(mynumber))"
      ]
    },
    {
      "cell_type": "markdown",
      "source": [
        "**Access characters in a String**\n",
        "\n",
        "To access characters of a string, we can use the python indexing operator [ ] \n",
        "i.e. square brackets to access characters in a string as shown below."
      ],
      "metadata": {
        "id": "UDAiFWkXpKbT"
      }
    },
    {
      "cell_type": "code",
      "source": [
        "word = \"Hello World\"\n",
        "letter = word[0]\n",
        "print(letter)"
      ],
      "metadata": {
        "colab": {
          "base_uri": "https://localhost:8080/"
        },
        "id": "DMX7pQ-pqcqd",
        "outputId": "3a413335-c6bd-45f4-8882-55e36a738846"
      },
      "execution_count": null,
      "outputs": [
        {
          "output_type": "stream",
          "name": "stdout",
          "text": [
            "H\n"
          ]
        }
      ]
    },
    {
      "cell_type": "markdown",
      "source": [
        "**Find Length of a String**\n",
        "\n",
        "To find the length of a string, we can use the len() function. The len() function takes a string as input argument and returns the length of the string as shown below."
      ],
      "metadata": {
        "id": "C40q45HqqlyU"
      }
    },
    {
      "cell_type": "code",
      "source": [
        "print(len(word))\n",
        "print(len(mystring))\n",
        "print(len(mynumber))"
      ],
      "metadata": {
        "colab": {
          "base_uri": "https://localhost:8080/"
        },
        "id": "354cFleuqsJ4",
        "outputId": "a083fce4-5ad8-4499-f6cb-45fb2abb7a87"
      },
      "execution_count": null,
      "outputs": [
        {
          "output_type": "stream",
          "name": "stdout",
          "text": [
            "11\n",
            "11\n",
            "5\n"
          ]
        }
      ]
    },
    {
      "cell_type": "markdown",
      "source": [
        "**Find a Character in a String**\n",
        "\n",
        "To find the index of a character in a string, we can use the find() method. The find() method, when invoked on a string, takes the character as its input argument and returns the index of first occurrence of the character as shown below."
      ],
      "metadata": {
        "id": "GeHbHwspq77l"
      }
    },
    {
      "cell_type": "code",
      "source": [
        "print(mystring.find('W'))\n",
        "print(mynumber.find('h'))"
      ],
      "metadata": {
        "colab": {
          "base_uri": "https://localhost:8080/"
        },
        "id": "Wzma5rWXq-Qq",
        "outputId": "47ca8bc7-dec6-4277-c83c-5b7d2b08ab44"
      },
      "execution_count": null,
      "outputs": [
        {
          "output_type": "stream",
          "name": "stdout",
          "text": [
            "6\n",
            "-1\n"
          ]
        }
      ]
    },
    {
      "cell_type": "markdown",
      "source": [
        "You can also perform string manipulation in python to find the **frequency** of a character in the string. \n",
        "For this, we can use the count() method. \n",
        "The count() method, when invoked on a string, takes a character as its input argument and returns the **frequency of the character** as shown below."
      ],
      "metadata": {
        "id": "9GJs1UBMrRD5"
      }
    },
    {
      "cell_type": "code",
      "source": [
        "print(word.count('l'))"
      ],
      "metadata": {
        "colab": {
          "base_uri": "https://localhost:8080/"
        },
        "id": "g03-ryIPrY86",
        "outputId": "55e925e6-aedd-4ba6-cd94-4550a29b3292"
      },
      "execution_count": null,
      "outputs": [
        {
          "output_type": "stream",
          "name": "stdout",
          "text": [
            "3\n"
          ]
        }
      ]
    },
    {
      "cell_type": "code",
      "source": [
        "max_count = 0\n",
        "max_char = ''\n",
        "for c in mystring:\n",
        "    c_count = mystring.count(c)\n",
        "    if max_count < c_count:\n",
        "      max_count = c_count\n",
        "      max_char = c\n",
        "print(max_char, '-->', max_count)\n"
      ],
      "metadata": {
        "colab": {
          "base_uri": "https://localhost:8080/"
        },
        "id": "G1XyBi6TriWG",
        "outputId": "f8bab6bd-37e8-4e3f-fe9d-100004b8b217"
      },
      "execution_count": null,
      "outputs": [
        {
          "output_type": "stream",
          "name": "stdout",
          "text": [
            "l --> 3\n"
          ]
        }
      ]
    },
    {
      "cell_type": "markdown",
      "source": [
        "You can also find the index of a character or a substring in a string using the index() method. \n",
        "The index() method, when invoked on a string, takes a character or substring as its input argument and returns the index of first occurrence of character or substring as shown below."
      ],
      "metadata": {
        "id": "Xge6JYNytQMc"
      }
    },
    {
      "cell_type": "code",
      "source": [
        "print(word.index(\"World\"))"
      ],
      "metadata": {
        "colab": {
          "base_uri": "https://localhost:8080/"
        },
        "id": "EGQhU-KDsWjI",
        "outputId": "f7ee3c51-0f36-40af-d034-29c9307ccde9"
      },
      "execution_count": null,
      "outputs": [
        {
          "output_type": "stream",
          "name": "stdout",
          "text": [
            "6\n"
          ]
        }
      ]
    },
    {
      "cell_type": "markdown",
      "source": [
        "**Count the number of spaces in a string**\n",
        "\n",
        "To count the number of spaces in a string, you can pass the space character to the count() method as shown below."
      ],
      "metadata": {
        "id": "9iMdYlaNt_QA"
      }
    },
    {
      "cell_type": "code",
      "source": [
        "s = \"Count, the number of spaces\"\n",
        "print (\"There are\", s.count(' ')+1, \"words in this sentence.\")"
      ],
      "metadata": {
        "colab": {
          "base_uri": "https://localhost:8080/"
        },
        "id": "Q2ey9o9RuDnR",
        "outputId": "0aa978d0-6869-447c-d291-47dde9cf82df"
      },
      "execution_count": null,
      "outputs": [
        {
          "output_type": "stream",
          "name": "stdout",
          "text": [
            "There are 5 words in this sentence.\n"
          ]
        }
      ]
    },
    {
      "cell_type": "markdown",
      "source": [
        "**String Slicing**\n",
        "\n",
        "To perform string manipulation in Python, you can use the syntax \n",
        "\n",
        "string_name[ start_index : end_index ] \n",
        "\n",
        "to get a substring of a string. Here, the slicing operation gives us a substring containing characters from start_index to end_index-1 of the string string_name.\n",
        "\n",
        "***Keep in mind that python, as many other languages, starts to count from 0!!***"
      ],
      "metadata": {
        "id": "gqcBkvHPugMx"
      }
    },
    {
      "cell_type": "code",
      "source": [
        "print(word[0]) #get one char of the word\n",
        "print(word[0:1]) #get one char of the word (same as above)\n",
        "print(word[0:3]) #get the first three char\n",
        "print(word[:3]) #get the first three char\n",
        "print(word[-3:]) #get the last three char\n",
        "print(word[3:]) #get all but the three first char\n",
        "print(word[:-3]) #get all but the three last character"
      ],
      "metadata": {
        "colab": {
          "base_uri": "https://localhost:8080/"
        },
        "id": "p9TPv4e8uv4J",
        "outputId": "70ce8955-28e4-49a7-c06c-d7e90a54b48e"
      },
      "execution_count": null,
      "outputs": [
        {
          "output_type": "stream",
          "name": "stdout",
          "text": [
            "H\n",
            "H\n",
            "Hel\n",
            "Hel\n",
            "rld\n",
            "lo World\n",
            "Hello Wo\n"
          ]
        }
      ]
    },
    {
      "cell_type": "markdown",
      "source": [
        "**Split Strings in Python**\n",
        "\n",
        "You can split a string using the split() method to perform string manipulation in Python. The split() method, when invoked on a string, takes a character as its input argument. After execution, it splits the string at the specified character and returns a list of substrings as shown below."
      ],
      "metadata": {
        "id": "27lRAM4NvI7o"
      }
    },
    {
      "cell_type": "code",
      "source": [
        "word_list = s.split()\n",
        "print(word_list)"
      ],
      "metadata": {
        "colab": {
          "base_uri": "https://localhost:8080/"
        },
        "id": "QMY7DCx5vLt8",
        "outputId": "e9482b7d-01cc-4d89-e925-0f5ebd43be95"
      },
      "execution_count": null,
      "outputs": [
        {
          "output_type": "stream",
          "name": "stdout",
          "text": [
            "['Count,', 'the', 'number', 'of', 'spaces']\n"
          ]
        }
      ]
    },
    {
      "cell_type": "markdown",
      "source": [
        "**Check if a string Startswith or Endswith a character**\n",
        "\n",
        "\n",
        "To check if a string starts with or ends with a specific character, you can use the startswith() or the endswith() method respectively.\n",
        "\n",
        "The startswith() method, when invoked on a string, takes a character as input argument. If the string starts with the given character, it returns True. Otherwise, it returns False.\n",
        "\n",
        "The endswith() method, when invoked on a string, takes a character as input argument. If the string ends with the given character, it returns True. Otherwise, it returns False. You can observe this in the following example."
      ],
      "metadata": {
        "id": "x7EuWLzKvcSf"
      }
    },
    {
      "cell_type": "code",
      "source": [
        "mystring = input(\"Enter a string: \")\n",
        "if mystring.startswith(\"H\") and mystring.endswith(\"d\"):\n",
        "    print(mystring)\n",
        "else:\n",
        "    print(\"sorry!\")"
      ],
      "metadata": {
        "colab": {
          "base_uri": "https://localhost:8080/"
        },
        "id": "uzgGJ8BDviHh",
        "outputId": "4716787e-1a7d-40f7-dcd4-ebfc3700558c"
      },
      "execution_count": null,
      "outputs": [
        {
          "output_type": "stream",
          "name": "stdout",
          "text": [
            "Enter a string: Hello World\n",
            "Hello World\n"
          ]
        }
      ]
    },
    {
      "cell_type": "markdown",
      "source": [
        "**Replace Substring in a String in Python**\n",
        "\n",
        "\n",
        "You can also replace a substring with another substring using the replace() method. The replace() method, when invoked on a string, takes the substring to replaced as its first input argument and the replacement string as its second input argument. After execution, it replaces the specified substring with the replacement string and returns a modified string. You can perform string manipulation in Python using the replace() method as shown below."
      ],
      "metadata": {
        "id": "jGcFI9qu2C3X"
      }
    },
    {
      "cell_type": "code",
      "source": [
        "text = text.replace(\"Hello\", \"Goodbye\")\n",
        "print(text)"
      ],
      "metadata": {
        "colab": {
          "base_uri": "https://localhost:8080/"
        },
        "id": "QHPe0G4m2FwX",
        "outputId": "210d8863-02e9-496e-9c5f-14c0b513729f"
      },
      "execution_count": null,
      "outputs": [
        {
          "output_type": "stream",
          "name": "stdout",
          "text": [
            "Goodbye World\n"
          ]
        }
      ]
    },
    {
      "cell_type": "markdown",
      "source": [
        "**Reverse a String in Python**\n",
        "\n",
        "\n",
        "To reverse a string, you can use the reversed() function and the join() method.\n",
        "\n",
        "To reverse a string using the reversed() function and the join() method, we will first create a list of characters in reverse order using the reversed() function. Then we will use an empty string as a separator and invoke the join() method on the empty string with the list of characters as its input argument. After execution of the join() method, we will get a new reversed string as shown below."
      ],
      "metadata": {
        "id": "M7yS6MmB3A-S"
      }
    },
    {
      "cell_type": "code",
      "source": [
        "print(''.join(reversed(text)))"
      ],
      "metadata": {
        "colab": {
          "base_uri": "https://localhost:8080/"
        },
        "id": "2yJI2Shc3Dhq",
        "outputId": "b67a6c7b-1b9a-44fe-bf13-287522e0eebd"
      },
      "execution_count": null,
      "outputs": [
        {
          "output_type": "stream",
          "name": "stdout",
          "text": [
            "dlroW eybdooG\n"
          ]
        }
      ]
    },
    {
      "cell_type": "markdown",
      "source": [
        "**Testing**\n",
        "\n",
        "\n",
        "A string in Python can be tested for truth value.\n",
        "\n",
        "The return type will be in Boolean value (True or False)"
      ],
      "metadata": {
        "id": "Wa-DIXCA48el"
      }
    },
    {
      "cell_type": "code",
      "source": [
        "word = \"hello123\"\n",
        "\n",
        "print('isalnum =', word.isalnum()) #check if all char are alphanumeric \n",
        "print('isalpha =', word.isalpha()) #check if all char in the string are alphabetic\n",
        "print('isdigit =', word.isdigit()) #test if string contains digits\n",
        "print('istitle =', word.istitle()) #test if string contains title words\n",
        "print('isupper =', word.isupper()) #test if string contains upper case\n",
        "print('islower =', word.islower()) #test if string contains lower case\n",
        "print('isspace =', word.isspace()) #test if string contains spaces"
      ],
      "metadata": {
        "colab": {
          "base_uri": "https://localhost:8080/"
        },
        "id": "5QUC8EqD3dZL",
        "outputId": "1a94b3ef-3a28-4465-9722-e5548bbc0110"
      },
      "execution_count": null,
      "outputs": [
        {
          "output_type": "stream",
          "name": "stdout",
          "text": [
            "isalnum = True\n",
            "isalpha = False\n",
            "isdigit = False\n",
            "istitle = False\n",
            "isupper = False\n",
            "islower = True\n",
            "isspace = False\n"
          ]
        }
      ]
    },
    {
      "cell_type": "markdown",
      "source": [
        "**String Comparing**\n",
        "\n",
        "*   using logical operator(<, >, ==, !=, <=, >=)\n",
        "*   using membership operator( in, not in )\n",
        "\n",
        "\n",
        "\n"
      ],
      "metadata": {
        "id": "UeHEdb9D5Qw_"
      }
    },
    {
      "cell_type": "code",
      "source": [
        "c1 = input('Please enter the name of first color:\\n')\n",
        "c2 = input('Please enter the name of second color:\\n')\n",
        "\n",
        "if c1 < c2:\n",
        "    print(c1 + \" comes before \" + c2 + \" in the dictionary.\")\n",
        "elif c1 > c2:\n",
        "    print(c1 + \" comes after \" + c2 + \" in the dictionary.\")\n",
        "else:\n",
        "    print(c1 + \" and \" + c2 + \" are same.\")"
      ],
      "metadata": {
        "colab": {
          "base_uri": "https://localhost:8080/"
        },
        "id": "3GLaA7hc5j_p",
        "outputId": "0fb92d0f-252d-4d89-9e80-0a9f8c894fb1"
      },
      "execution_count": null,
      "outputs": [
        {
          "output_type": "stream",
          "name": "stdout",
          "text": [
            "Please enter the name of first color:\n",
            "yellow\n",
            "Please enter the name of second color:\n",
            "red\n",
            "yellow comes after red in the dictionary.\n"
          ]
        }
      ]
    },
    {
      "cell_type": "code",
      "source": [
        "#check prsence of substring variable\n",
        "str1='python script'\n",
        "str2='script'\n",
        "print('str2 is a part of str1:',str2 in str1)"
      ],
      "metadata": {
        "colab": {
          "base_uri": "https://localhost:8080/"
        },
        "id": "cN7IHht263u_",
        "outputId": "7085c75d-6a63-4bb3-81e7-be7c0c5431df"
      },
      "execution_count": null,
      "outputs": [
        {
          "output_type": "stream",
          "name": "stdout",
          "text": [
            "str2 is a part of str1: True\n"
          ]
        }
      ]
    },
    {
      "cell_type": "markdown",
      "source": [
        "**Parsing and Extracting**"
      ],
      "metadata": {
        "id": "RUfL4v4GOito"
      }
    },
    {
      "cell_type": "code",
      "source": [
        "data = \"Please contact us at contact@codechampsmm.com for further information. You can also use feedback@codechampsmm.com for feedback message.\""
      ],
      "metadata": {
        "id": "za0zRzHZOg8q"
      },
      "execution_count": 6,
      "outputs": []
    },
    {
      "cell_type": "code",
      "source": [
        "words = data.split()\n",
        "for w in words:\n",
        "    if w.find('@') != -1:\n",
        "      print(w)"
      ],
      "metadata": {
        "colab": {
          "base_uri": "https://localhost:8080/"
        },
        "id": "iLffFtN3P0rX",
        "outputId": "d75c3949-555f-4fc0-84fa-2b08a839f728"
      },
      "execution_count": 7,
      "outputs": [
        {
          "output_type": "stream",
          "name": "stdout",
          "text": [
            "contact@codechampsmm.com\n",
            "feedback@codechampsmm.com\n"
          ]
        }
      ]
    },
    {
      "cell_type": "code",
      "source": [
        "test_string = \"There are 2 apples for 4 persons\"\n",
        "  \n",
        "# printing original string \n",
        "print(\"The original string : \" + test_string)\n",
        "  \n",
        "# using List comprehension + isdigit() +split()\n",
        "# getting numbers from string \n",
        "#res = [int(i) for i in test_string.split() if i.isdigit()]\n",
        "\n",
        "res = []\n",
        "for i in test_string.split():\n",
        "  if i.isdigit():\n",
        "    res.append(int(i))\n",
        "  \n",
        "# print result\n",
        "print(\"The numbers list is : \" + str(res))"
      ],
      "metadata": {
        "colab": {
          "base_uri": "https://localhost:8080/"
        },
        "id": "YOjArv_wQxSZ",
        "outputId": "7055ae90-f1cc-4bdb-9609-2d5b426a39d9"
      },
      "execution_count": 8,
      "outputs": [
        {
          "output_type": "stream",
          "name": "stdout",
          "text": [
            "The original string : There are 2 apples for 4 persons\n",
            "The numbers list is : [2, 4]\n"
          ]
        }
      ]
    }
  ]
}