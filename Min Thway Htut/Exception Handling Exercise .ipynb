{
 "cells": [
  {
   "cell_type": "code",
   "execution_count": null,
   "id": "f26072d5",
   "metadata": {},
   "outputs": [],
   "source": [
    "class Person:\n",
    "    def __init__(self,name,age):\n",
    "        self.name = name\n",
    "        self.age = age\n",
    "            \n",
    "    def __str__(self):\n",
    "        return \"This is \"+self.name+\". I am \"+self.age+\".\""
   ]
  },
  {
   "cell_type": "code",
   "execution_count": null,
   "id": "0d680a49",
   "metadata": {},
   "outputs": [],
   "source": [
    "p1 = Person(\"Johm\",20)\n",
    "print(p1)"
   ]
  },
  {
   "cell_type": "code",
   "execution_count": null,
   "id": "9414ae10",
   "metadata": {},
   "outputs": [],
   "source": [
    "def runcalc(x):\n",
    "    return x/0"
   ]
  },
  {
   "cell_type": "code",
   "execution_count": null,
   "id": "ec0cb578",
   "metadata": {},
   "outputs": [],
   "source": [
    "runcalc(6)"
   ]
  },
  {
   "cell_type": "code",
   "execution_count": null,
   "id": "e0dc7c7e",
   "metadata": {},
   "outputs": [],
   "source": [
    "try:\n",
    "    runcalc(6)\n",
    "except:\n",
    "    print(\"OOPs....We can't divide any number by zero\")"
   ]
  },
  {
   "cell_type": "code",
   "execution_count": null,
   "id": "2848d648",
   "metadata": {},
   "outputs": [],
   "source": [
    "try:\n",
    "    runcalc(3)\n",
    "except ZeroDivisionError as zde:\n",
    "    print(zde)"
   ]
  },
  {
   "cell_type": "code",
   "execution_count": null,
   "id": "6055c1c0",
   "metadata": {},
   "outputs": [],
   "source": [
    "def myFunction(x,y):\n",
    "    print(\"My Function IN\")\n",
    "    result = x/y\n",
    "    print(\"My Function OUT\")\n",
    "    return result"
   ]
  },
  {
   "cell_type": "code",
   "execution_count": null,
   "id": "5e1b8652",
   "metadata": {},
   "outputs": [],
   "source": [
    "try:\n",
    "    x = int(input(\"Enter x: \"))\n",
    "    y = int(input(\"Enter y: \"))\n",
    "    print(\"Result =\", myFunction(x, y))\n",
    "except ValueError as e:\n",
    "    print(e)\n",
    "except ZeroDivisionError as e:\n",
    "    print(e)\n",
    "else:\n",
    "    print(\"Everything is OK\")"
   ]
  },
  {
   "cell_type": "code",
   "execution_count": null,
   "id": "754b7af4",
   "metadata": {},
   "outputs": [],
   "source": [
    "#raising an exception\n",
    "def function_bang(a):\n",
    "    if a < 0:\n",
    "        raise ValueError(\"Your number is negative!!!\")\n",
    "    else:\n",
    "        print(\"Your number is\", a)"
   ]
  },
  {
   "cell_type": "code",
   "execution_count": null,
   "id": "3e75b42b",
   "metadata": {},
   "outputs": [],
   "source": [
    "function_bang(2)"
   ]
  },
  {
   "cell_type": "code",
   "execution_count": null,
   "id": "a60d8aa2",
   "metadata": {},
   "outputs": [],
   "source": [
    "function_bang(-3)"
   ]
  },
  {
   "cell_type": "code",
   "execution_count": null,
   "id": "fb422e41",
   "metadata": {},
   "outputs": [],
   "source": [
    "class Person:\n",
    "    def __init__(self,name,age):\n",
    "        self.set_name(name)\n",
    "        self.set_age(age)\n",
    "        \n",
    "    def set_name(self,name):\n",
    "        self.name = name\n",
    "        \n",
    "    def set_age(self,age):\n",
    "        if age > 1 and age < 100 and isinstance(age,int):\n",
    "            self.age = age\n",
    "        else:\n",
    "            raise InvalidAgeException(age)\n",
    "            \n",
    "    def __str__(self):\n",
    "        return \"This is \"+self.name+\". I am \"+str(self.age)+\".\"\n",
    "        "
   ]
  },
  {
   "cell_type": "code",
   "execution_count": null,
   "id": "49b4a06f",
   "metadata": {},
   "outputs": [],
   "source": [
    "class InvalidAgeException(Exception):\n",
    "    def __init__(self,value):\n",
    "        self.value = value\n",
    "    def __str__(self):\n",
    "        return \"InvalidAgeException(\"+str(self.value)+\")\""
   ]
  },
  {
   "cell_type": "code",
   "execution_count": null,
   "id": "758e8f3d",
   "metadata": {},
   "outputs": [],
   "source": [
    "p2 = Person(\"Alex\",20)\n",
    "print(p2)"
   ]
  },
  {
   "cell_type": "code",
   "execution_count": null,
   "id": "543a9fd9",
   "metadata": {},
   "outputs": [],
   "source": [
    "p3 = Person(\"Bob\",-20)\n",
    "print(p3)"
   ]
  },
  {
   "cell_type": "code",
   "execution_count": null,
   "id": "f27963db",
   "metadata": {},
   "outputs": [],
   "source": [
    "pip install numpy"
   ]
  },
  {
   "cell_type": "code",
   "execution_count": null,
   "id": "079142da",
   "metadata": {},
   "outputs": [],
   "source": [
    "import numpy as np\n",
    "a = np.array([34,23,54,76,87])\n",
    "try:\n",
    "    print(a[9])\n",
    "except IndexError as e:\n",
    "    print(e)"
   ]
  },
  {
   "cell_type": "code",
   "execution_count": null,
   "id": "8e9ddb81",
   "metadata": {},
   "outputs": [],
   "source": []
  },
  {
   "cell_type": "code",
   "execution_count": null,
   "id": "286c3ddb",
   "metadata": {},
   "outputs": [],
   "source": []
  }
 ],
 "metadata": {
  "kernelspec": {
   "display_name": "Python 3 (ipykernel)",
   "language": "python",
   "name": "python3"
  },
  "language_info": {
   "codemirror_mode": {
    "name": "ipython",
    "version": 3
   },
   "file_extension": ".py",
   "mimetype": "text/x-python",
   "name": "python",
   "nbconvert_exporter": "python",
   "pygments_lexer": "ipython3",
   "version": "3.10.8"
  }
 },
 "nbformat": 4,
 "nbformat_minor": 5
}
