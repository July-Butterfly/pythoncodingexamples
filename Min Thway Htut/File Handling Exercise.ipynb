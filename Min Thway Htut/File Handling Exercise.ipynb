{
 "cells": [
  {
   "cell_type": "markdown",
   "id": "be8c86d0",
   "metadata": {},
   "source": [
    "File Handling Exercise"
   ]
  },
  {
   "cell_type": "code",
   "execution_count": null,
   "id": "cc4b9fe0",
   "metadata": {},
   "outputs": [],
   "source": [
    "hand = open(\"myfile1.txt\",\"w\")\n",
    "print(hand.mode)\n",
    "print(hand.closed)\n",
    "print(hand.name)"
   ]
  },
  {
   "cell_type": "code",
   "execution_count": null,
   "id": "163efc49",
   "metadata": {},
   "outputs": [],
   "source": [
    "hand.close()\n",
    "print(hand.closed)"
   ]
  },
  {
   "cell_type": "code",
   "execution_count": null,
   "id": "79ea42ed",
   "metadata": {},
   "outputs": [],
   "source": [
    "my_file = open(\"C:\\\\Users\\\\User\\\\Desktop\\\\Min Thway Htut\\\\testing.txt\",\"w\")"
   ]
  },
  {
   "cell_type": "code",
   "execution_count": null,
   "id": "0719b155",
   "metadata": {},
   "outputs": [],
   "source": [
    "my_file.write(\"Hello, We learn python\")"
   ]
  },
  {
   "cell_type": "code",
   "execution_count": null,
   "id": "d63a824f",
   "metadata": {},
   "outputs": [],
   "source": [
    "my_file.close()"
   ]
  },
  {
   "cell_type": "code",
   "execution_count": null,
   "id": "f51bea2e",
   "metadata": {},
   "outputs": [],
   "source": [
    "my_file = open(\"C:\\\\Users\\\\User\\\\Desktop\\\\Min Thway Htut\\\\testing.txt\",\"a\")\n",
    "my_file.write(\"\\nWe like python\")\n",
    "my_file.write(\"\\nCool!!!\")\n",
    "my_file.close()"
   ]
  },
  {
   "cell_type": "code",
   "execution_count": null,
   "id": "768b2ad4",
   "metadata": {},
   "outputs": [],
   "source": [
    "# with statement\n",
    "with open(\"C:\\\\Users\\\\User\\\\Desktop\\\\Min Thway Htut\\\\test_file.txt\",\"w\") as f:\n",
    "    f.write(\"Hello\")\n",
    "    f.write(\"\\nTesting......\")\n",
    "    f.write(\"\\n1..2..3..\")\n",
    "    f.write(\"\\nWelcome to our world\")\n",
    "    f.write(\"\\nHello Everybody!\")\n",
    "    \n",
    "print(f.closed)\n"
   ]
  },
  {
   "cell_type": "code",
   "execution_count": null,
   "id": "96e9a26b",
   "metadata": {},
   "outputs": [],
   "source": [
    "with open(\"C:\\\\Users\\\\User\\\\Desktop\\\\Min Thway Htut\\\\testing.txt\",\"r\") as f:\n",
    "    line = f.read()\n",
    "    print(line)\n",
    "print(f.closed)"
   ]
  },
  {
   "cell_type": "code",
   "execution_count": null,
   "id": "a45704d6",
   "metadata": {},
   "outputs": [],
   "source": [
    "with open(\"C:\\\\Users\\\\User\\\\Desktop\\\\Min Thway Htut\\\\testing.txt\",\"r\") as f:\n",
    "    line = f.readlines()#print list of lines in file\n",
    "    print(line)\n",
    "print(f.closed)"
   ]
  },
  {
   "cell_type": "code",
   "execution_count": null,
   "id": "62768f99",
   "metadata": {},
   "outputs": [],
   "source": [
    "with open(\"C:\\\\Users\\\\User\\\\Desktop\\\\Min Thway Htut\\\\testing.txt\",\"r\") as f:\n",
    "    line = f.readline()#print first line in file\n",
    "    print(line)\n",
    "print(f.closed)"
   ]
  },
  {
   "cell_type": "code",
   "execution_count": null,
   "id": "0a468733",
   "metadata": {},
   "outputs": [],
   "source": [
    "with open(\"C:\\\\Users\\\\User\\\\Desktop\\\\Min Thway Htut\\\\testing.txt\",\"r\") as f:\n",
    "    for line in f:\n",
    "        print(line)#extra newline character\n",
    "print(f.closed)"
   ]
  },
  {
   "cell_type": "code",
   "execution_count": null,
   "id": "b59ed377",
   "metadata": {},
   "outputs": [],
   "source": [
    "with open(\"C:\\\\Users\\\\User\\\\Desktop\\\\Min Thway Htut\\\\test_file.txt\",\"r\") as f:\n",
    "    line = [e.upper() for e in f]\n",
    "    print(line)\n",
    "print(f.closed)"
   ]
  },
  {
   "cell_type": "code",
   "execution_count": null,
   "id": "768df1f3",
   "metadata": {},
   "outputs": [],
   "source": [
    "with open(\"C:\\\\Users\\\\User\\\\Desktop\\\\Min Thway Htut\\\\file_pointer_test.txt\",\"w\") as f:\n",
    "    f.write(\"abcdefghijklmnopqrstuvwxyz\")"
   ]
  },
  {
   "cell_type": "code",
   "execution_count": null,
   "id": "cce2c597",
   "metadata": {},
   "outputs": [],
   "source": [
    "with open(\"C:\\\\Users\\\\User\\\\Desktop\\\\Min Thway Htut\\\\file_pointer_test.txt\",\"r+\") as f:\n",
    "    f.seek(5,0)\n",
    "    f.write(\"xxxx\")"
   ]
  },
  {
   "cell_type": "code",
   "execution_count": null,
   "id": "21c24468",
   "metadata": {},
   "outputs": [],
   "source": [
    "with open(\"C:\\\\Users\\\\User\\\\Desktop\\\\Min Thway Htut\\\\test_file.txt\",\"r\") as f:\n",
    "    with open(\"C:\\\\Users\\\\User\\\\Desktop\\\\Min Thway Htut\\\\test_file_copy.txt\",\"w+\") as ff:\n",
    "        to_copy = ''\n",
    "        for line in f:\n",
    "            if \"Hello\" in line:\n",
    "                to_copy += line+'\\n'\n",
    "        ff.write(to_copy)"
   ]
  },
  {
   "cell_type": "code",
   "execution_count": null,
   "id": "a44e3151",
   "metadata": {},
   "outputs": [],
   "source": [
    "with open(\"C:\\\\Users\\\\User\\\\Desktop\\\\Min Thway Htut\\\\test_file.txt\",\"r\") as f:\n",
    "    print(f.read())"
   ]
  },
  {
   "cell_type": "code",
   "execution_count": null,
   "id": "a55219a1",
   "metadata": {},
   "outputs": [],
   "source": [
    "with open(\"C:\\\\Users\\\\User\\\\Desktop\\\\Min Thway Htut\\\\test_file_copy.txt\",\"r\") as ff:\n",
    "    print(ff.read())"
   ]
  },
  {
   "cell_type": "code",
   "execution_count": null,
   "id": "d6846689",
   "metadata": {},
   "outputs": [],
   "source": [
    "with open(\"C:\\\\Users\\\\User\\\\Desktop\\\\Min Thway Htut\\\\test_file.txt\",\"r\") as f:\n",
    "    with open(\"C:\\\\Users\\\\User\\\\Desktop\\\\Min Thway Htut\\\\test_file_copy.txt\",\"r\") as ff:\n",
    "        with open(\"C:\\\\Users\\\\User\\\\Desktop\\\\Min Thway Htut\\\\marge_file.txt\",\"w\") as fff:\n",
    "            f1_data = f.read()\n",
    "            f2_data = ff.read()\n",
    "            marge_data = fff.write(f1_data+'\\n'+f2_data)\n",
    "    "
   ]
  },
  {
   "cell_type": "code",
   "execution_count": null,
   "id": "781a6bae",
   "metadata": {},
   "outputs": [],
   "source": [
    "with open(\"C:\\\\Users\\\\User\\\\Desktop\\\\Min Thway Htut\\\\marge_file.txt\",\"r\") as fff:\n",
    "    print(fff.read())"
   ]
  },
  {
   "cell_type": "code",
   "execution_count": null,
   "id": "8bd54204",
   "metadata": {},
   "outputs": [],
   "source": []
  }
 ],
 "metadata": {
  "kernelspec": {
   "display_name": "Python 3 (ipykernel)",
   "language": "python",
   "name": "python3"
  },
  "language_info": {
   "codemirror_mode": {
    "name": "ipython",
    "version": 3
   },
   "file_extension": ".py",
   "mimetype": "text/x-python",
   "name": "python",
   "nbconvert_exporter": "python",
   "pygments_lexer": "ipython3",
   "version": "3.10.8"
  }
 },
 "nbformat": 4,
 "nbformat_minor": 5
}
