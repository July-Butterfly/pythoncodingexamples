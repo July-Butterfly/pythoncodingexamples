{
 "cells": [
  {
   "cell_type": "code",
   "execution_count": 57,
   "id": "fb422e41",
   "metadata": {},
   "outputs": [],
   "source": [
    "class Person:\n",
    "    def __init__(self,name,age):\n",
    "        self.set_name(name)\n",
    "        self.set_age(age)\n",
    "        \n",
    "    def set_name(self,name):\n",
    "        self.name = name\n",
    "        \n",
    "    def set_age(self,age):\n",
    "        if age > 1 and age < 100 and isinstance(age,int):\n",
    "            self.age = age\n",
    "        else:\n",
    "            raise InvalidAgeException(age)\n",
    "            \n",
    "    def __str__(self):\n",
    "        return \"This is \"+self.name+\". I am \"+str(self.age)+\".\"\n",
    "        "
   ]
  },
  {
   "cell_type": "code",
   "execution_count": 58,
   "id": "7611b7bb",
   "metadata": {},
   "outputs": [
    {
     "name": "stdout",
     "output_type": "stream",
     "text": [
      "This is Johm. I am 20.\n"
     ]
    }
   ],
   "source": [
    "p1 = Person(\"Johm\",20)\n",
    "print(p1)"
   ]
  },
  {
   "cell_type": "code",
   "execution_count": 4,
   "id": "21cab549",
   "metadata": {},
   "outputs": [],
   "source": [
    "def runcalc(x):\n",
    "    return x/0"
   ]
  },
  {
   "cell_type": "code",
   "execution_count": 5,
   "id": "1ea2b2a1",
   "metadata": {},
   "outputs": [
    {
     "ename": "ZeroDivisionError",
     "evalue": "division by zero",
     "output_type": "error",
     "traceback": [
      "\u001b[1;31m---------------------------------------------------------------------------\u001b[0m",
      "\u001b[1;31mZeroDivisionError\u001b[0m                         Traceback (most recent call last)",
      "Cell \u001b[1;32mIn [5], line 1\u001b[0m\n\u001b[1;32m----> 1\u001b[0m \u001b[43mruncalc\u001b[49m\u001b[43m(\u001b[49m\u001b[38;5;241;43m6\u001b[39;49m\u001b[43m)\u001b[49m\n",
      "Cell \u001b[1;32mIn [4], line 2\u001b[0m, in \u001b[0;36mruncalc\u001b[1;34m(x)\u001b[0m\n\u001b[0;32m      1\u001b[0m \u001b[38;5;28;01mdef\u001b[39;00m \u001b[38;5;21mruncalc\u001b[39m(x):\n\u001b[1;32m----> 2\u001b[0m     \u001b[38;5;28;01mreturn\u001b[39;00m \u001b[43mx\u001b[49m\u001b[38;5;241;43m/\u001b[39;49m\u001b[38;5;241;43m0\u001b[39;49m\n",
      "\u001b[1;31mZeroDivisionError\u001b[0m: division by zero"
     ]
    }
   ],
   "source": [
    "runcalc(6)"
   ]
  },
  {
   "cell_type": "code",
   "execution_count": 6,
   "id": "dc888811",
   "metadata": {},
   "outputs": [
    {
     "name": "stdout",
     "output_type": "stream",
     "text": [
      "OOPs....We can't divide any number by zero\n"
     ]
    }
   ],
   "source": [
    "try:\n",
    "    runcalc(6)\n",
    "except:\n",
    "    print(\"OOPs....We can't divide any number by zero\")"
   ]
  },
  {
   "cell_type": "code",
   "execution_count": 7,
   "id": "80222ba5",
   "metadata": {},
   "outputs": [
    {
     "name": "stdout",
     "output_type": "stream",
     "text": [
      "division by zero\n"
     ]
    }
   ],
   "source": [
    "try:\n",
    "    runcalc(3)\n",
    "except ZeroDivisionError as zde:\n",
    "    print(zde)"
   ]
  },
  {
   "cell_type": "code",
   "execution_count": 8,
   "id": "05dbbb3c",
   "metadata": {},
   "outputs": [],
   "source": [
    "def myFunction(x,y):\n",
    "    print(\"My Function IN\")\n",
    "    result = x/y\n",
    "    print(\"My Function OUT\")\n",
    "    return result"
   ]
  },
  {
   "cell_type": "code",
   "execution_count": 23,
   "id": "41c3c941",
   "metadata": {},
   "outputs": [
    {
     "name": "stdout",
     "output_type": "stream",
     "text": [
      "Enter x: 3\n",
      "Enter y: 0\n",
      "My Function IN\n",
      "division by zero\n"
     ]
    }
   ],
   "source": [
    "try:\n",
    "    x = int(input(\"Enter x: \"))\n",
    "    y = int(input(\"Enter y: \"))\n",
    "    print(\"Result =\", myFunction(x, y))\n",
    "except ValueError as e:\n",
    "    print(e)\n",
    "except ZeroDivisionError as e:\n",
    "    print(e)\n",
    "else:\n",
    "    print(\"Everything is OK\")"
   ]
  },
  {
   "cell_type": "code",
   "execution_count": 24,
   "id": "1e0b35a1",
   "metadata": {},
   "outputs": [],
   "source": [
    "#raising an exception\n",
    "def function_bang(a):\n",
    "    if a < 0:\n",
    "        raise ValueError(\"Your number is negative!!!\")\n",
    "    else:\n",
    "        print(\"Your number is\", a)"
   ]
  },
  {
   "cell_type": "code",
   "execution_count": 25,
   "id": "f36fabd3",
   "metadata": {},
   "outputs": [
    {
     "name": "stdout",
     "output_type": "stream",
     "text": [
      "Your number is 2\n"
     ]
    }
   ],
   "source": [
    "function_bang(2)"
   ]
  },
  {
   "cell_type": "code",
   "execution_count": 26,
   "id": "c3faad59",
   "metadata": {},
   "outputs": [
    {
     "ename": "ValueError",
     "evalue": "Your number is negative!!!",
     "output_type": "error",
     "traceback": [
      "\u001b[1;31m---------------------------------------------------------------------------\u001b[0m",
      "\u001b[1;31mValueError\u001b[0m                                Traceback (most recent call last)",
      "Cell \u001b[1;32mIn [26], line 1\u001b[0m\n\u001b[1;32m----> 1\u001b[0m \u001b[43mfunction_bang\u001b[49m\u001b[43m(\u001b[49m\u001b[38;5;241;43m-\u001b[39;49m\u001b[38;5;241;43m3\u001b[39;49m\u001b[43m)\u001b[49m\n",
      "Cell \u001b[1;32mIn [24], line 4\u001b[0m, in \u001b[0;36mfunction_bang\u001b[1;34m(a)\u001b[0m\n\u001b[0;32m      2\u001b[0m \u001b[38;5;28;01mdef\u001b[39;00m \u001b[38;5;21mfunction_bang\u001b[39m(a):\n\u001b[0;32m      3\u001b[0m     \u001b[38;5;28;01mif\u001b[39;00m a \u001b[38;5;241m<\u001b[39m \u001b[38;5;241m0\u001b[39m:\n\u001b[1;32m----> 4\u001b[0m         \u001b[38;5;28;01mraise\u001b[39;00m \u001b[38;5;167;01mValueError\u001b[39;00m(\u001b[38;5;124m\"\u001b[39m\u001b[38;5;124mYour number is negative!!!\u001b[39m\u001b[38;5;124m\"\u001b[39m)\n\u001b[0;32m      5\u001b[0m     \u001b[38;5;28;01melse\u001b[39;00m:\n\u001b[0;32m      6\u001b[0m         \u001b[38;5;28mprint\u001b[39m(\u001b[38;5;124m\"\u001b[39m\u001b[38;5;124mYour number is\u001b[39m\u001b[38;5;124m\"\u001b[39m, a)\n",
      "\u001b[1;31mValueError\u001b[0m: Your number is negative!!!"
     ]
    }
   ],
   "source": [
    "function_bang(-3)"
   ]
  },
  {
   "cell_type": "code",
   "execution_count": 29,
   "id": "9612181d",
   "metadata": {},
   "outputs": [],
   "source": [
    "class InvalidAgeException(Exception):\n",
    "    def __init__(self,value):\n",
    "        self.value = value\n",
    "    def __str__(self):\n",
    "        return \"InvalidAgeException(\"+str(self.value)+\")\""
   ]
  },
  {
   "cell_type": "code",
   "execution_count": 55,
   "id": "da41bc76",
   "metadata": {},
   "outputs": [
    {
     "name": "stdout",
     "output_type": "stream",
     "text": [
      "This is Alex. I am 20.\n"
     ]
    }
   ],
   "source": [
    "p2 = Person(\"Alex\",20)\n",
    "print(p2)"
   ]
  },
  {
   "cell_type": "code",
   "execution_count": 59,
   "id": "55e675d7",
   "metadata": {},
   "outputs": [
    {
     "ename": "InvalidAgeException",
     "evalue": "InvalidAgeException(-20)",
     "output_type": "error",
     "traceback": [
      "\u001b[1;31m---------------------------------------------------------------------------\u001b[0m",
      "\u001b[1;31mInvalidAgeException\u001b[0m                       Traceback (most recent call last)",
      "Cell \u001b[1;32mIn [59], line 1\u001b[0m\n\u001b[1;32m----> 1\u001b[0m p3 \u001b[38;5;241m=\u001b[39m \u001b[43mPerson\u001b[49m\u001b[43m(\u001b[49m\u001b[38;5;124;43m\"\u001b[39;49m\u001b[38;5;124;43mBob\u001b[39;49m\u001b[38;5;124;43m\"\u001b[39;49m\u001b[43m,\u001b[49m\u001b[38;5;241;43m-\u001b[39;49m\u001b[38;5;241;43m20\u001b[39;49m\u001b[43m)\u001b[49m\n\u001b[0;32m      2\u001b[0m \u001b[38;5;28mprint\u001b[39m(p3)\n",
      "Cell \u001b[1;32mIn [57], line 4\u001b[0m, in \u001b[0;36mPerson.__init__\u001b[1;34m(self, name, age)\u001b[0m\n\u001b[0;32m      2\u001b[0m \u001b[38;5;28;01mdef\u001b[39;00m \u001b[38;5;21m__init__\u001b[39m(\u001b[38;5;28mself\u001b[39m,name,age):\n\u001b[0;32m      3\u001b[0m     \u001b[38;5;28mself\u001b[39m\u001b[38;5;241m.\u001b[39mset_name(name)\n\u001b[1;32m----> 4\u001b[0m     \u001b[38;5;28;43mself\u001b[39;49m\u001b[38;5;241;43m.\u001b[39;49m\u001b[43mset_age\u001b[49m\u001b[43m(\u001b[49m\u001b[43mage\u001b[49m\u001b[43m)\u001b[49m\n",
      "Cell \u001b[1;32mIn [57], line 11\u001b[0m, in \u001b[0;36mPerson.set_age\u001b[1;34m(self, age)\u001b[0m\n\u001b[0;32m      9\u001b[0m     \u001b[38;5;28mself\u001b[39m\u001b[38;5;241m.\u001b[39mage \u001b[38;5;241m=\u001b[39m age\n\u001b[0;32m     10\u001b[0m \u001b[38;5;28;01melse\u001b[39;00m:\n\u001b[1;32m---> 11\u001b[0m     \u001b[38;5;28;01mraise\u001b[39;00m InvalidAgeException(age)\n",
      "\u001b[1;31mInvalidAgeException\u001b[0m: InvalidAgeException(-20)"
     ]
    }
   ],
   "source": [
    "p3 = Person(\"Bob\",-20)\n",
    "print(p3)"
   ]
  },
  {
   "cell_type": "code",
   "execution_count": null,
   "id": "cef54cea",
   "metadata": {},
   "outputs": [],
   "source": []
  }
 ],
 "metadata": {
  "kernelspec": {
   "display_name": "Python 3 (ipykernel)",
   "language": "python",
   "name": "python3"
  },
  "language_info": {
   "codemirror_mode": {
    "name": "ipython",
    "version": 3
   },
   "file_extension": ".py",
   "mimetype": "text/x-python",
   "name": "python",
   "nbconvert_exporter": "python",
   "pygments_lexer": "ipython3",
   "version": "3.10.8"
  }
 },
 "nbformat": 4,
 "nbformat_minor": 5
}
