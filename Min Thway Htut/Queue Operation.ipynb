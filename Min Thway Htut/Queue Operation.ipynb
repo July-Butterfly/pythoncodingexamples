{
 "cells": [
  {
   "cell_type": "markdown",
   "id": "5f4092f9",
   "metadata": {},
   "source": [
    "Queue Operation"
   ]
  },
  {
   "cell_type": "code",
   "execution_count": 1,
   "id": "a76e0dfa",
   "metadata": {},
   "outputs": [],
   "source": [
    "import numpy as np"
   ]
  },
  {
   "cell_type": "code",
   "execution_count": 79,
   "id": "f6fcfe9e",
   "metadata": {},
   "outputs": [],
   "source": [
    "class myQueue:\n",
    "    def __init__(self,size):\n",
    "        a = [0]*size\n",
    "        self.arr = np.array(a)\n",
    "        self.front = -1\n",
    "        self.rare = -1\n",
    "        \n",
    "    def isEmpty(self):\n",
    "        return self.front == -1 and self.rare == -1\n",
    "\n",
    "    def isFull(self):\n",
    "        return self.rare >= len(self.arr)-1\n",
    "\n",
    "    def enqueue(self,value):\n",
    "        if self.isEmpty():\n",
    "            self.front = 0\n",
    "            self.rare = 0\n",
    "        elif self.isFull():\n",
    "            raise Exception(\"Queue is Full\")\n",
    "        else:\n",
    "            self.rare += 1\n",
    "        self.arr[self.rare] = value\n",
    "        \n",
    "    def dequeue(self):\n",
    "        value = 0\n",
    "        if self.isEmpty():\n",
    "            raise Exception(\"Queue is Empty\")\n",
    "        elif self.front == self.rare:\n",
    "            value = self.arr[self.front]\n",
    "            self.arr[self.front] = 0\n",
    "            self.front = -1\n",
    "            self.rare = -1\n",
    "        else:\n",
    "            value = self.arr[self.front]\n",
    "            self.arr[self.front] = 0\n",
    "            self.front += 1\n",
    "        return value"
   ]
  },
  {
   "cell_type": "code",
   "execution_count": 80,
   "id": "aceaa4d2",
   "metadata": {},
   "outputs": [],
   "source": [
    "q = myQueue(5)"
   ]
  },
  {
   "cell_type": "code",
   "execution_count": 81,
   "id": "eb7a233f",
   "metadata": {},
   "outputs": [
    {
     "name": "stdout",
     "output_type": "stream",
     "text": [
      "True\n"
     ]
    }
   ],
   "source": [
    "print(q.isEmpty())"
   ]
  },
  {
   "cell_type": "code",
   "execution_count": 82,
   "id": "cdbc343a",
   "metadata": {},
   "outputs": [
    {
     "name": "stdout",
     "output_type": "stream",
     "text": [
      "False\n"
     ]
    }
   ],
   "source": [
    "print(q.isFull())"
   ]
  },
  {
   "cell_type": "code",
   "execution_count": 83,
   "id": "8290b4b1",
   "metadata": {},
   "outputs": [],
   "source": [
    "q.enqueue(9)"
   ]
  },
  {
   "cell_type": "code",
   "execution_count": 84,
   "id": "76aa8b08",
   "metadata": {},
   "outputs": [
    {
     "name": "stdout",
     "output_type": "stream",
     "text": [
      "[9 0 0 0 0]\n"
     ]
    }
   ],
   "source": [
    "print(q.arr)"
   ]
  },
  {
   "cell_type": "code",
   "execution_count": 97,
   "id": "08f9034f",
   "metadata": {},
   "outputs": [],
   "source": [
    "q.enqueue(5)"
   ]
  },
  {
   "cell_type": "code",
   "execution_count": 98,
   "id": "63c5643b",
   "metadata": {},
   "outputs": [
    {
     "name": "stdout",
     "output_type": "stream",
     "text": [
      "False\n"
     ]
    }
   ],
   "source": [
    "print(q.isEmpty())"
   ]
  },
  {
   "cell_type": "code",
   "execution_count": 99,
   "id": "78639931",
   "metadata": {},
   "outputs": [
    {
     "name": "stdout",
     "output_type": "stream",
     "text": [
      "True\n"
     ]
    }
   ],
   "source": [
    "print(q.isFull())"
   ]
  },
  {
   "cell_type": "code",
   "execution_count": 101,
   "id": "e0c0f04a",
   "metadata": {},
   "outputs": [
    {
     "data": {
      "text/plain": [
       "5"
      ]
     },
     "execution_count": 101,
     "metadata": {},
     "output_type": "execute_result"
    }
   ],
   "source": [
    "q.dequeue()"
   ]
  },
  {
   "cell_type": "code",
   "execution_count": 104,
   "id": "a52aa59d",
   "metadata": {},
   "outputs": [
    {
     "name": "stdout",
     "output_type": "stream",
     "text": [
      "[0 0 5 5 5]\n"
     ]
    }
   ],
   "source": [
    "print(q.arr)"
   ]
  },
  {
   "cell_type": "code",
   "execution_count": 103,
   "id": "ad4cc4db",
   "metadata": {},
   "outputs": [
    {
     "data": {
      "text/plain": [
       "5"
      ]
     },
     "execution_count": 103,
     "metadata": {},
     "output_type": "execute_result"
    }
   ],
   "source": [
    "q.dequeue()"
   ]
  },
  {
   "cell_type": "code",
   "execution_count": 92,
   "id": "9be3772e",
   "metadata": {},
   "outputs": [
    {
     "data": {
      "text/plain": [
       "True"
      ]
     },
     "execution_count": 92,
     "metadata": {},
     "output_type": "execute_result"
    }
   ],
   "source": [
    "q.isEmpty()"
   ]
  },
  {
   "cell_type": "code",
   "execution_count": null,
   "id": "6e61cea3",
   "metadata": {},
   "outputs": [],
   "source": []
  }
 ],
 "metadata": {
  "kernelspec": {
   "display_name": "Python 3 (ipykernel)",
   "language": "python",
   "name": "python3"
  },
  "language_info": {
   "codemirror_mode": {
    "name": "ipython",
    "version": 3
   },
   "file_extension": ".py",
   "mimetype": "text/x-python",
   "name": "python",
   "nbconvert_exporter": "python",
   "pygments_lexer": "ipython3",
   "version": "3.10.8"
  }
 },
 "nbformat": 4,
 "nbformat_minor": 5
}
