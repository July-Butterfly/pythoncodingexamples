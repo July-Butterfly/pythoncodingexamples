{
 "cells": [
  {
   "cell_type": "markdown",
   "id": "ee729a0f",
   "metadata": {},
   "source": [
    "Getting Current Working Directory\n",
    "\n",
    "The getcwd() function confirms returns the current working directory. "
   ]
  },
  {
   "cell_type": "code",
   "execution_count": null,
   "id": "d13ca8db",
   "metadata": {},
   "outputs": [],
   "source": [
    "import os\n",
    "os.getcwd()"
   ]
  },
  {
   "cell_type": "markdown",
   "id": "2807d941",
   "metadata": {},
   "source": [
    "Creating a Directory\n",
    "\n",
    "We can create a new directory using the os.mkdir() function, as shown below. "
   ]
  },
  {
   "cell_type": "code",
   "execution_count": null,
   "id": "21f05b63",
   "metadata": {},
   "outputs": [],
   "source": [
    "os.mkdir(\"SampleFolder\")"
   ]
  },
  {
   "cell_type": "markdown",
   "id": "65de5002",
   "metadata": {},
   "source": [
    "List Files and Sub-directories\n",
    "\n",
    "The listdir() function returns the list of all files and directories in the specified directory. \n",
    "If we don't specify any directory, then list of files and directories in the current working directory will be returned."
   ]
  },
  {
   "cell_type": "code",
   "execution_count": null,
   "id": "1be95868",
   "metadata": {},
   "outputs": [],
   "source": [
    "os.listdir('C:\\\\Users\\\\User\\\\Desktop\\\\Min Thway Htut')"
   ]
  },
  {
   "cell_type": "code",
   "execution_count": null,
   "id": "7c9a9e4c",
   "metadata": {},
   "outputs": [],
   "source": [
    "os.listdir()#current working directory"
   ]
  },
  {
   "cell_type": "markdown",
   "id": "53170cb8",
   "metadata": {},
   "source": [
    "Changing the Current Working Directory\n",
    "\n",
    "We must first change the current working directory to a newly created one before doing any operations in it. This is done using the chdir() function."
   ]
  },
  {
   "cell_type": "code",
   "execution_count": null,
   "id": "b89f2156",
   "metadata": {},
   "outputs": [],
   "source": [
    "os.chdir(\"SampleFolder\")"
   ]
  },
  {
   "cell_type": "code",
   "execution_count": null,
   "id": "8564b9fd",
   "metadata": {},
   "outputs": [],
   "source": [
    "print(os.getcwd())"
   ]
  },
  {
   "cell_type": "code",
   "execution_count": null,
   "id": "fdbf7dd8",
   "metadata": {},
   "outputs": [],
   "source": [
    "os.mkdir(\"testing 1\")"
   ]
  },
  {
   "cell_type": "code",
   "execution_count": null,
   "id": "3863f5c0",
   "metadata": {},
   "outputs": [],
   "source": [
    "os.getcwd()"
   ]
  },
  {
   "cell_type": "code",
   "execution_count": null,
   "id": "ab9b3fcb",
   "metadata": {},
   "outputs": [],
   "source": [
    "os.rmdir(\"testing 1\")"
   ]
  },
  {
   "cell_type": "markdown",
   "id": "adbb5393",
   "metadata": {},
   "source": [
    "Removing a Directory\n",
    "\n",
    "The rmdir() function in the OS module removes the specified directory either with an absolute or relative path. Note that, for a directory to be removed, it should be empty. "
   ]
  },
  {
   "cell_type": "code",
   "execution_count": null,
   "id": "a1454b8c",
   "metadata": {},
   "outputs": [],
   "source": [
    "os.chdir(\"..\")\n",
    "os.getcwd()"
   ]
  },
  {
   "cell_type": "code",
   "execution_count": null,
   "id": "fc63abd0",
   "metadata": {},
   "outputs": [],
   "source": [
    "os.chdir(\"C:\\\\Users\\\\User\\\\AppData\\\\Local\\\\Programs\\\\Python\\\\Python310\\\\Scripts\\\\Min Thway Htut\")\n",
    "os.getcwd()"
   ]
  },
  {
   "cell_type": "code",
   "execution_count": null,
   "id": "4c4f03d6",
   "metadata": {},
   "outputs": [],
   "source": [
    "os.rmdir('SampleFolder')"
   ]
  },
  {
   "cell_type": "code",
   "execution_count": null,
   "id": "fe69a269",
   "metadata": {},
   "outputs": [],
   "source": [
    "import os\n",
    "for f in os.listdir(os.getcwd()):\n",
    "    print(os.path.abspath(f))"
   ]
  },
  {
   "cell_type": "markdown",
   "id": "9a6386b1",
   "metadata": {},
   "source": [
    "Finding the Logarithm\n",
    "\n",
    "log() function returns the logarithmic value of a with base b. If the base is not mentioned, the computed value is of the natural log.\n",
    "\n",
    "log2(a) function computes value of log a with base 2. This value is more accurate than the value of the function discussed above.\n",
    "\n",
    "log10(a) function computes value of log a with base 10. This value is more accurate than the value of the function discussed above."
   ]
  },
  {
   "cell_type": "code",
   "execution_count": null,
   "id": "2e238eeb",
   "metadata": {},
   "outputs": [],
   "source": [
    "import math\n",
    "\n",
    "# returning the log of 2,3\n",
    "print (\"The value of log 2 with base 3 is : \", end=\"\")\n",
    "print (math.log(2,3))\n",
    "\n",
    "# returning the log2 of 16\n",
    "print (\"The value of log2 of 16 is : \", end=\"\")\n",
    "print (math.log2(16))\n",
    "\n",
    "# returning the log10 of 10000\n",
    "print (\"The value of log10 of 10000 is : \", end=\"\")\n",
    "print (math.log10(10000))"
   ]
  },
  {
   "cell_type": "markdown",
   "id": "6d8ee2e8",
   "metadata": {},
   "source": [
    "Finding the power of exp\n",
    "\n",
    "exp() method is used to calculate the power of e i.e. e^y  or we can say exponential of y.\n",
    "\n",
    "Example:"
   ]
  },
  {
   "cell_type": "code",
   "execution_count": null,
   "id": "693fb04f",
   "metadata": {},
   "outputs": [],
   "source": [
    "y = 2\n",
    "print(math.exp(y))"
   ]
  },
  {
   "cell_type": "markdown",
   "id": "2747d826",
   "metadata": {},
   "source": [
    "Euler’s Number \n",
    "\n",
    "The math.e constant returns the Euler’s number: 2.71828182846."
   ]
  },
  {
   "cell_type": "code",
   "execution_count": null,
   "id": "479f6b2e",
   "metadata": {},
   "outputs": [],
   "source": [
    "print(math.pi)"
   ]
  },
  {
   "cell_type": "code",
   "execution_count": null,
   "id": "984cb375",
   "metadata": {},
   "outputs": [],
   "source": [
    "print(math.e)"
   ]
  },
  {
   "cell_type": "code",
   "execution_count": null,
   "id": "374ca623",
   "metadata": {},
   "outputs": [],
   "source": [
    "print(math.exp(math.e))"
   ]
  },
  {
   "cell_type": "code",
   "execution_count": null,
   "id": "2e06ac59",
   "metadata": {},
   "outputs": [],
   "source": [
    "#the maximum of log2 10000 and e^e\n",
    "a = math.log2(10000)\n",
    "b = math.exp(math.e)\n",
    "print('log2 10000 =', a)\n",
    "print('e^e =', b)\n",
    "print('the maximum of log2 10000 and e^e =', max(a,b))"
   ]
  },
  {
   "cell_type": "code",
   "execution_count": null,
   "id": "f98808f1",
   "metadata": {},
   "outputs": [],
   "source": [
    "import random\n",
    "print(round(random.random(), 1))#return floating point number between 0.0 and 1.0 "
   ]
  },
  {
   "cell_type": "code",
   "execution_count": null,
   "id": "30579510",
   "metadata": {},
   "outputs": [],
   "source": [
    "print(random.randint(1,13))"
   ]
  },
  {
   "cell_type": "code",
   "execution_count": null,
   "id": "fc0b13a5",
   "metadata": {},
   "outputs": [],
   "source": [
    "print(random.choice(['TV','Thank you','Phone','Thank you','Car','Thank you']))"
   ]
  },
  {
   "cell_type": "code",
   "execution_count": null,
   "id": "900c8838",
   "metadata": {},
   "outputs": [],
   "source": [
    "def probability(randnum):\n",
    "    p = round(randnum, 1)\n",
    "    result = round(p * 100)##\n",
    "    print(p)\n",
    "    return \"True in \"+str(result)+\" % and False in \"+str(100-result)+\" %\""
   ]
  },
  {
   "cell_type": "code",
   "execution_count": null,
   "id": "f81638f8",
   "metadata": {},
   "outputs": [],
   "source": [
    "from random import *    \n",
    "print (probability(random()))"
   ]
  },
  {
   "cell_type": "markdown",
   "id": "a67fd18e",
   "metadata": {},
   "source": [
    "Python pickle module is used for serializing and de-serializing a Python object structure. Any object in Python can be pickled so that it can be saved on disk. What pickle does is that it “serializes” the object first before writing it to file. Pickling is a way to convert a python object (list, dict, etc.) into a character stream."
   ]
  },
  {
   "cell_type": "code",
   "execution_count": 19,
   "id": "3765feb0",
   "metadata": {},
   "outputs": [
    {
     "name": "stdout",
     "output_type": "stream",
     "text": [
      "employee => [{'id': '01', 'name': 'Amit', 'department': 'Sales'}, {'id': '04', 'name': 'sunil', 'department': 'HR'}]\n",
      "Amit\n",
      "sunil\n"
     ]
    }
   ],
   "source": [
    "import pickle\n",
    "\n",
    "def storeData():\n",
    "    # initializing data to be stored in db\n",
    "    #Omkar = {'key' : 'Omkar', 'name' : 'Omkar Pathak', 'age' : 21, 'pay' : 40000}\n",
    "    #Jagdish = {'key' : 'Jagdish', 'name' : 'Jagdish Pathak','age' : 50, 'pay' : 50000}\n",
    "\n",
    "    # database\n",
    "    #db = {}\n",
    "    #db['Omkar'] = Omkar\n",
    "    #db['Jagdish'] = Jagdish\n",
    "    \n",
    "    db={\n",
    "   \"employee\": [\n",
    "\n",
    "      {\n",
    "         \"id\": \"01\",\n",
    "         \"name\": \"Amit\",\n",
    "         \"department\": \"Sales\"\n",
    "      },\n",
    "\n",
    "      {\n",
    "         \"id\": \"04\",\n",
    "         \"name\": \"sunil\",\n",
    "         \"department\": \"HR\"\n",
    "      }\n",
    "   ]\n",
    "}\n",
    "\n",
    "    # Its important to use binary mode\n",
    "    dbfile = open('examplePickle', 'ab')\n",
    "\n",
    "    # source, destination\n",
    "    pickle.dump(db, dbfile)\n",
    "    dbfile.close()\n",
    "\n",
    "def loadData():\n",
    "    # for reading also binary mode is important\n",
    "    dbfile = open('examplePickle', 'rb')\n",
    "    db = pickle.load(dbfile)\n",
    "    for keys in db:\n",
    "        print(keys, '=>', db[keys])\n",
    "        for emp in db[keys]:\n",
    "            print(emp['name'])\n",
    "    dbfile.close()\n",
    "\n",
    "if __name__ == '__main__':\n",
    "    storeData()\n",
    "    loadData()\n"
   ]
  },
  {
   "cell_type": "markdown",
   "id": "8e004e9f",
   "metadata": {},
   "source": [
    "The full-form of JSON is JavaScript Object Notation. It means that a script (executable) file which is made of text in a programming language, is used to store and transfer the data. Python supports JSON through a built-in package called json. To use this feature, we import the json package in Python script. The text in JSON is done through quoted-string which contains the value in key-value mapping within { }."
   ]
  },
  {
   "cell_type": "code",
   "execution_count": 3,
   "id": "e142ab46",
   "metadata": {},
   "outputs": [
    {
     "name": "stdout",
     "output_type": "stream",
     "text": [
      "Margarita\n",
      "Blue Margarita\n",
      "Tommy's Margarita\n",
      "Whitecap Margarita\n",
      "Strawberry Margarita\n",
      "Smashed Watermelon Margarita\n"
     ]
    }
   ],
   "source": [
    "import json\n",
    "  \n",
    "# Opening JSON file\n",
    "f = open('drinks.json')\n",
    "  \n",
    "# returns JSON object as \n",
    "# a dictionary\n",
    "data = json.load(f)\n",
    "  \n",
    "# Iterating through the json\n",
    "# list\n",
    "for i in data['drinks']:\n",
    "    print(i['strDrink'])\n",
    "  \n",
    "# Closing file\n",
    "f.close()"
   ]
  },
  {
   "cell_type": "code",
   "execution_count": 6,
   "id": "b415f9f9",
   "metadata": {},
   "outputs": [],
   "source": [
    "import json\n",
    "  \n",
    "# Data to be written\n",
    "dictionary ={\n",
    "    \"name\": \"Min Thway Htut\",\n",
    "    \"address\": \"Ya Me Thin\",\n",
    "    \"Ph\": \"12-345678\"\n",
    "}\n",
    "  \n",
    "with open(\"sample.json\", \"w\") as outfile:\n",
    "    json.dump(dictionary, outfile)"
   ]
  },
  {
   "cell_type": "code",
   "execution_count": 7,
   "id": "39f31dcd",
   "metadata": {},
   "outputs": [
    {
     "name": "stdout",
     "output_type": "stream",
     "text": [
      "name --> Min Thway Htut\n",
      "address --> Ya Me Thin\n",
      "Ph --> 12-345678\n"
     ]
    }
   ],
   "source": [
    "import json\n",
    "  \n",
    "# Opening JSON file\n",
    "f = open('sample.json')\n",
    "  \n",
    "# returns JSON object as \n",
    "# a dictionary\n",
    "data = json.load(f)\n",
    "  \n",
    "# Iterating through the json\n",
    "# list\n",
    "for i in data:\n",
    "    print(i,'-->',data[i])\n",
    "  \n",
    "# Closing file\n",
    "f.close()"
   ]
  },
  {
   "cell_type": "code",
   "execution_count": 24,
   "id": "54586d6c",
   "metadata": {},
   "outputs": [
    {
     "name": "stdout",
     "output_type": "stream",
     "text": [
      "True\n",
      "True\n",
      "False\n",
      "False\n"
     ]
    }
   ],
   "source": [
    "import re\n",
    "def validate_email_address(email_address):\n",
    "        mypattern = '[A-Za-z0-9.]+@[A-Za-z0-9.-]+\\.[A-Z|a-z]{2,}'\n",
    "        #mon.mon@gmail.com\n",
    "        #minthwayhtut99@gmail.com\n",
    "        #thetthet@code-champs.edu\n",
    "        if(re.fullmatch(mypattern, email_address)):\n",
    "            return True\n",
    "        else:\n",
    "            return False\n",
    "        \n",
    "print(validate_email_address('monmon@gmail.com'))\n",
    "print(validate_email_address('mon.mon123@gmail.com'))\n",
    "print(validate_email_address('monmon gmail.com'))\n",
    "print(validate_email_address('monmon@123'))"
   ]
  },
  {
   "cell_type": "code",
   "execution_count": null,
   "id": "c75cb7f1",
   "metadata": {},
   "outputs": [],
   "source": []
  }
 ],
 "metadata": {
  "kernelspec": {
   "display_name": "Python 3 (ipykernel)",
   "language": "python",
   "name": "python3"
  },
  "language_info": {
   "codemirror_mode": {
    "name": "ipython",
    "version": 3
   },
   "file_extension": ".py",
   "mimetype": "text/x-python",
   "name": "python",
   "nbconvert_exporter": "python",
   "pygments_lexer": "ipython3",
   "version": "3.10.8"
  }
 },
 "nbformat": 4,
 "nbformat_minor": 5
}
