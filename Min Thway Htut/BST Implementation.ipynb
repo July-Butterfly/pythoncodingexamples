{
 "cells": [
  {
   "cell_type": "code",
   "execution_count": null,
   "id": "2a1d0c39",
   "metadata": {},
   "outputs": [],
   "source": [
    "class Node:\n",
    "    def __init__(self, label, parent):\n",
    "        self.label = label\n",
    "        self.parent = parent\n",
    "        self.leftChild = None\n",
    "        self.rightChild = None\n",
    "        \n",
    "    def __str__(self): # Returns the path from root to node\n",
    "        if self.parent is not None:\n",
    "            return str(self.parent) + \" \" + str(self.label)\n",
    "        else:\n",
    "            return str(self.label)\n",
    "        \n",
    "    def insert(self, value):\n",
    "        if value < self.label:\n",
    "            if self.leftChild != None:\n",
    "                self.leftChild.insert(value)\n",
    "            else:\n",
    "                self.leftChild = Node(value, self)\n",
    "        else:\n",
    "            if self.rightChild != None:\n",
    "                self.rightChild.insert(value)\n",
    "            else:\n",
    "                self.rightChild = Node(value, self)\n",
    "    \n",
    "    def search(self, label):\n",
    "        if self is None or self.label == label:\n",
    "            return self\n",
    "        elif self.label > label:\n",
    "            return self.leftChild.search(label)\n",
    "        else:\n",
    "            return self.rightChild.search(label)\n",
    "        \n",
    "    def findMin(self):\n",
    "        if self.leftChild is None:\n",
    "            return self\n",
    "        else:\n",
    "            self = self.leftChild\n",
    "            return self.findMin()\n",
    "        \n",
    "    def findMax(self):\n",
    "        if self.rightChild is None:\n",
    "            return self\n",
    "        else:\n",
    "            self = self.rightChild\n",
    "            return self.findMax()\n",
    "        \n",
    "    def inOrderPrint(self):\n",
    "        if self is None:\n",
    "            return\n",
    "        \n",
    "        if self.leftChild is not None:\n",
    "            self.leftChild.inOrderPrint()\n",
    "            \n",
    "        print(self.label,end=',')\n",
    "        \n",
    "        if self.rightChild is not None:\n",
    "            self.rightChild.inOrderPrint()"
   ]
  },
  {
   "cell_type": "code",
   "execution_count": null,
   "id": "f771f8f0",
   "metadata": {},
   "outputs": [],
   "source": [
    "root = Node(5, None)\n",
    "print(root)"
   ]
  },
  {
   "cell_type": "code",
   "execution_count": null,
   "id": "8e43e269",
   "metadata": {},
   "outputs": [],
   "source": [
    "def delete(node, value):\n",
    "    if node is None:\n",
    "        return\n",
    "    if node.label < value:\n",
    "        delete(node.rightChild, value)\n",
    "    elif node.label > value:\n",
    "        delete(node.leftChild, value)\n",
    "    else:\n",
    "        if node.leftChild and node.rightChild:\n",
    "            newNode = node.rightChild.findMin()\n",
    "            node.label = newNode.label\n",
    "            delete(newNode, newNode.label)\n",
    "        elif node.leftChild:\n",
    "            replaceNodeInParent(node, node.leftChild)\n",
    "        else:\n",
    "            replaceNodeInParent(node, node.rightChild)\n",
    "            \n",
    "def replaceNodeInParent(oldNode, newNode):\n",
    "    #if root == oldNode:\n",
    "        #root = newNode\n",
    "    if oldNode.parent:\n",
    "        if oldNode == oldNode.parent.leftChild:\n",
    "            oldNode.parent.leftChild = newNode\n",
    "        else:\n",
    "            oldNode.parent.rightChild = newNode\n",
    "    if newNode:\n",
    "        newNode.parent = oldNode.parent"
   ]
  },
  {
   "cell_type": "code",
   "execution_count": null,
   "id": "73e3fa8e",
   "metadata": {},
   "outputs": [],
   "source": [
    "root.insert(10)\n",
    "root.insert(7)\n",
    "root.insert(12)"
   ]
  },
  {
   "cell_type": "code",
   "execution_count": null,
   "id": "e258c167",
   "metadata": {},
   "outputs": [],
   "source": [
    "print(str(root.search(7)))"
   ]
  },
  {
   "cell_type": "code",
   "execution_count": null,
   "id": "0f1f9fef",
   "metadata": {},
   "outputs": [],
   "source": [
    "root.insert(4)\n",
    "root.insert(6)"
   ]
  },
  {
   "cell_type": "code",
   "execution_count": null,
   "id": "24cddb6b",
   "metadata": {},
   "outputs": [],
   "source": [
    "delete(root, 4)"
   ]
  },
  {
   "cell_type": "code",
   "execution_count": null,
   "id": "e98275e8",
   "metadata": {},
   "outputs": [],
   "source": [
    "delete(root, 5)"
   ]
  },
  {
   "cell_type": "code",
   "execution_count": null,
   "id": "4bb2652e",
   "metadata": {},
   "outputs": [],
   "source": [
    "root.insert(3)\n",
    "root.insert(2)"
   ]
  },
  {
   "cell_type": "code",
   "execution_count": null,
   "id": "8ac4aa8c",
   "metadata": {},
   "outputs": [],
   "source": [
    "print(str(root.search(2)))"
   ]
  },
  {
   "cell_type": "code",
   "execution_count": null,
   "id": "749c1f33",
   "metadata": {},
   "outputs": [],
   "source": [
    "print(root)"
   ]
  },
  {
   "cell_type": "code",
   "execution_count": null,
   "id": "14a59952",
   "metadata": {},
   "outputs": [],
   "source": [
    "print(root.leftChild)"
   ]
  },
  {
   "cell_type": "code",
   "execution_count": null,
   "id": "8396d5a2",
   "metadata": {},
   "outputs": [],
   "source": [
    "print(root.rightChild)"
   ]
  },
  {
   "cell_type": "code",
   "execution_count": null,
   "id": "a8860f0d",
   "metadata": {},
   "outputs": [],
   "source": [
    "print(str(root.findMin()))"
   ]
  },
  {
   "cell_type": "code",
   "execution_count": null,
   "id": "35b5af68",
   "metadata": {},
   "outputs": [],
   "source": [
    "print(str(root.findMin()))"
   ]
  },
  {
   "cell_type": "code",
   "execution_count": null,
   "id": "e525617e",
   "metadata": {},
   "outputs": [],
   "source": [
    "print(str(root.findMax()))"
   ]
  },
  {
   "cell_type": "code",
   "execution_count": null,
   "id": "30e859ca",
   "metadata": {},
   "outputs": [],
   "source": [
    "root.inOrderPrint()"
   ]
  },
  {
   "cell_type": "code",
   "execution_count": null,
   "id": "c9b43744",
   "metadata": {},
   "outputs": [],
   "source": [
    "r1 = Node(5, None)\n",
    "r1.insert(9)\n",
    "r1.insert(10)\n",
    "r1.insert(3)\n",
    "r1.insert(8)\n",
    "r1.insert(7)\n",
    "r1.insert(2)\n",
    "r1.insert(1)\n",
    "r1.insert(4)\n",
    "r1.insert(6)"
   ]
  },
  {
   "cell_type": "code",
   "execution_count": null,
   "id": "0ffd9f66",
   "metadata": {},
   "outputs": [],
   "source": [
    "print(\"In Order Print of the tree\")\n",
    "r1.inOrderPrint()"
   ]
  },
  {
   "cell_type": "code",
   "execution_count": null,
   "id": "77328b9d",
   "metadata": {},
   "outputs": [],
   "source": [
    "print(\"Searching value 4 in tree:\",str(r1.search(4)))"
   ]
  },
  {
   "cell_type": "code",
   "execution_count": null,
   "id": "931832e8",
   "metadata": {},
   "outputs": [],
   "source": [
    "print(\"Path to the min node in tree:\",r1.findMin())"
   ]
  },
  {
   "cell_type": "code",
   "execution_count": null,
   "id": "f7ff0559",
   "metadata": {},
   "outputs": [],
   "source": [
    "print(\"Path to the max node in tree:\",r1.findMax())"
   ]
  },
  {
   "cell_type": "code",
   "execution_count": null,
   "id": "dbf6fee0",
   "metadata": {},
   "outputs": [],
   "source": [
    "print(\"Searching value 6 in tree:\",str(r1.search(6)))"
   ]
  },
  {
   "cell_type": "code",
   "execution_count": null,
   "id": "51fecb29",
   "metadata": {},
   "outputs": [],
   "source": [
    "delete(r1, 7)"
   ]
  },
  {
   "cell_type": "code",
   "execution_count": null,
   "id": "500ee6a6",
   "metadata": {},
   "outputs": [],
   "source": [
    "print(\"Searching value 6 in tree:\",str(r1.search(6)))"
   ]
  }
 ],
 "metadata": {
  "kernelspec": {
   "display_name": "Python 3 (ipykernel)",
   "language": "python",
   "name": "python3"
  },
  "language_info": {
   "codemirror_mode": {
    "name": "ipython",
    "version": 3
   },
   "file_extension": ".py",
   "mimetype": "text/x-python",
   "name": "python",
   "nbconvert_exporter": "python",
   "pygments_lexer": "ipython3",
   "version": "3.10.8"
  }
 },
 "nbformat": 4,
 "nbformat_minor": 5
}
