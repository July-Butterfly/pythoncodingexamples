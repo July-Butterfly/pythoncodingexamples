{
 "cells": [
  {
   "cell_type": "code",
   "execution_count": 140,
   "id": "2a1d0c39",
   "metadata": {},
   "outputs": [],
   "source": [
    "class Node:\n",
    "    def __init__(self, label, parent):\n",
    "        self.label = label\n",
    "        self.parent = parent\n",
    "        self.leftChild = None\n",
    "        self.rightChild = None\n",
    "        \n",
    "    def __str__(self): # Returns the path from root to node\n",
    "        if self.parent is not None:\n",
    "            return str(self.parent) + \" \" + str(self.label)\n",
    "        else:\n",
    "            return str(self.label)\n",
    "        \n",
    "    def insert(self, node, value):\n",
    "        if value < node.label:\n",
    "            if node.leftChild != None:\n",
    "                self.insert(node.leftChild, value)\n",
    "            else:\n",
    "                node.leftChild = Node(value, node)\n",
    "        else:\n",
    "            if node.rightChild != None:\n",
    "                self.insert(node.rightChild, value)\n",
    "            else:\n",
    "                node.rightChild = Node(value, node)\n",
    "    \n",
    "    def search(self, node, label):\n",
    "        if node is None or node.label == label:\n",
    "            return node\n",
    "        elif node.label > label:\n",
    "            return self.search(node.leftChild, label)\n",
    "        else:\n",
    "            return self.search(node.rightChild, label)\n",
    "        \n",
    "    def findMin(self):\n",
    "        if self.leftChild is None:\n",
    "            return self\n",
    "        else:\n",
    "            self = self.leftChild\n",
    "            return self.findMin()\n",
    "        \n",
    "    def findMax(self):\n",
    "        if self.rightChild is None:\n",
    "            return self\n",
    "        else:\n",
    "            self = self.rightChild\n",
    "            return self.findMax()\n",
    "        \n",
    "    def inOrderPrint(self):\n",
    "        if self is None:\n",
    "            return\n",
    "        \n",
    "        if self.leftChild is not None:\n",
    "            self.leftChild.inOrderPrint()\n",
    "            \n",
    "        print(self.label,end=',')\n",
    "        \n",
    "        if self.rightChild is not None:\n",
    "            self.rightChild.inOrderPrint()"
   ]
  },
  {
   "cell_type": "code",
   "execution_count": 141,
   "id": "f771f8f0",
   "metadata": {},
   "outputs": [
    {
     "name": "stdout",
     "output_type": "stream",
     "text": [
      "5\n"
     ]
    }
   ],
   "source": [
    "root = Node(5, None)\n",
    "print(root)"
   ]
  },
  {
   "cell_type": "code",
   "execution_count": 142,
   "id": "73e3fa8e",
   "metadata": {},
   "outputs": [],
   "source": [
    "root.insert(root, 10)\n",
    "root.insert(root, 7)\n",
    "root.insert(root, 12)"
   ]
  },
  {
   "cell_type": "code",
   "execution_count": 143,
   "id": "e258c167",
   "metadata": {},
   "outputs": [
    {
     "name": "stdout",
     "output_type": "stream",
     "text": [
      "5 10 7\n"
     ]
    }
   ],
   "source": [
    "print(str(root.search(root, 7)))"
   ]
  },
  {
   "cell_type": "code",
   "execution_count": 144,
   "id": "0f1f9fef",
   "metadata": {},
   "outputs": [],
   "source": [
    "root.insert(root, 4)\n",
    "root.insert(root, 6)"
   ]
  },
  {
   "cell_type": "code",
   "execution_count": 145,
   "id": "8ac4aa8c",
   "metadata": {},
   "outputs": [
    {
     "name": "stdout",
     "output_type": "stream",
     "text": [
      "5 10 7 6\n"
     ]
    }
   ],
   "source": [
    "print(str(root.search(root, 6)))"
   ]
  },
  {
   "cell_type": "code",
   "execution_count": 146,
   "id": "749c1f33",
   "metadata": {},
   "outputs": [
    {
     "name": "stdout",
     "output_type": "stream",
     "text": [
      "5\n"
     ]
    }
   ],
   "source": [
    "print(root)"
   ]
  },
  {
   "cell_type": "code",
   "execution_count": 171,
   "id": "14a59952",
   "metadata": {},
   "outputs": [
    {
     "name": "stdout",
     "output_type": "stream",
     "text": [
      "5 4\n"
     ]
    }
   ],
   "source": [
    "print(root.leftChild)"
   ]
  },
  {
   "cell_type": "code",
   "execution_count": 170,
   "id": "8396d5a2",
   "metadata": {},
   "outputs": [
    {
     "name": "stdout",
     "output_type": "stream",
     "text": [
      "5 10\n"
     ]
    }
   ],
   "source": [
    "print(root.rightChild)"
   ]
  },
  {
   "cell_type": "code",
   "execution_count": 149,
   "id": "a8860f0d",
   "metadata": {},
   "outputs": [
    {
     "name": "stdout",
     "output_type": "stream",
     "text": [
      "5 4\n"
     ]
    }
   ],
   "source": [
    "print(str(root.findMin()))"
   ]
  },
  {
   "cell_type": "code",
   "execution_count": 150,
   "id": "4bb2652e",
   "metadata": {},
   "outputs": [],
   "source": [
    "root.insert(root, 3)\n",
    "root.insert(root, 2)"
   ]
  },
  {
   "cell_type": "code",
   "execution_count": 151,
   "id": "35b5af68",
   "metadata": {},
   "outputs": [
    {
     "name": "stdout",
     "output_type": "stream",
     "text": [
      "5 4 3 2\n"
     ]
    }
   ],
   "source": [
    "print(str(root.findMin()))"
   ]
  },
  {
   "cell_type": "code",
   "execution_count": 152,
   "id": "e525617e",
   "metadata": {},
   "outputs": [
    {
     "name": "stdout",
     "output_type": "stream",
     "text": [
      "5 10 12\n"
     ]
    }
   ],
   "source": [
    "print(str(root.findMax()))"
   ]
  },
  {
   "cell_type": "code",
   "execution_count": 153,
   "id": "30e859ca",
   "metadata": {},
   "outputs": [
    {
     "name": "stdout",
     "output_type": "stream",
     "text": [
      "2,3,4,5,6,7,10,12,"
     ]
    }
   ],
   "source": [
    "root.inOrderPrint()"
   ]
  },
  {
   "cell_type": "code",
   "execution_count": 163,
   "id": "c9b43744",
   "metadata": {},
   "outputs": [],
   "source": [
    "r1 = Node(5, None)\n",
    "r1.insert(r1,9)\n",
    "r1.insert(r1,10)\n",
    "r1.insert(r1,3)\n",
    "r1.insert(r1,8)\n",
    "r1.insert(r1,7)\n",
    "r1.insert(r1,2)\n",
    "r1.insert(r1,1)\n",
    "r1.insert(r1,4)\n",
    "r1.insert(r1,6)"
   ]
  },
  {
   "cell_type": "code",
   "execution_count": 164,
   "id": "0ffd9f66",
   "metadata": {},
   "outputs": [
    {
     "name": "stdout",
     "output_type": "stream",
     "text": [
      "In Order Print of the tree\n",
      "1,2,3,4,5,6,7,8,9,10,"
     ]
    }
   ],
   "source": [
    "print(\"In Order Print of the tree\")\n",
    "r1.inOrderPrint()"
   ]
  },
  {
   "cell_type": "code",
   "execution_count": 166,
   "id": "77328b9d",
   "metadata": {},
   "outputs": [
    {
     "name": "stdout",
     "output_type": "stream",
     "text": [
      "Searching value 4 in tree: 5 3 4\n"
     ]
    }
   ],
   "source": [
    "print(\"Searching value 4 in tree:\",str(r1.search(r1, 4)))"
   ]
  },
  {
   "cell_type": "code",
   "execution_count": 167,
   "id": "931832e8",
   "metadata": {},
   "outputs": [
    {
     "name": "stdout",
     "output_type": "stream",
     "text": [
      "Path to th min node in tree: 5 3 2 1\n"
     ]
    }
   ],
   "source": [
    "print(\"Path to th min node in tree:\",r1.findMin())"
   ]
  },
  {
   "cell_type": "code",
   "execution_count": 168,
   "id": "f7ff0559",
   "metadata": {},
   "outputs": [
    {
     "name": "stdout",
     "output_type": "stream",
     "text": [
      "Path to th max node in tree: 5 9 10\n"
     ]
    }
   ],
   "source": [
    "print(\"Path to th max node in tree:\",r1.findMax())"
   ]
  },
  {
   "cell_type": "code",
   "execution_count": null,
   "id": "8e43e269",
   "metadata": {},
   "outputs": [],
   "source": []
  }
 ],
 "metadata": {
  "kernelspec": {
   "display_name": "Python 3 (ipykernel)",
   "language": "python",
   "name": "python3"
  },
  "language_info": {
   "codemirror_mode": {
    "name": "ipython",
    "version": 3
   },
   "file_extension": ".py",
   "mimetype": "text/x-python",
   "name": "python",
   "nbconvert_exporter": "python",
   "pygments_lexer": "ipython3",
   "version": "3.10.8"
  }
 },
 "nbformat": 4,
 "nbformat_minor": 5
}
