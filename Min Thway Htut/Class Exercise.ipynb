{
 "cells": [
  {
   "cell_type": "markdown",
   "id": "1ada0681",
   "metadata": {},
   "source": [
    "Count the unique digit of an integer."
   ]
  },
  {
   "cell_type": "code",
   "execution_count": null,
   "id": "2993f586",
   "metadata": {},
   "outputs": [],
   "source": [
    "number = input(\"Enter an integer:: \")\n",
    "#print(number)\n",
    "#print(type(number))\n",
    "d_list = []\n",
    "for digit in number:\n",
    "    #print(digit)\n",
    "    if digit not in d_list:\n",
    "        d_list.append(digit)\n",
    "        \n",
    "#print(d_list)\n",
    "print(\"Number of unique digit in an integer =\", len(d_list))"
   ]
  },
  {
   "cell_type": "code",
   "execution_count": null,
   "id": "10933dfb",
   "metadata": {},
   "outputs": [],
   "source": [
    "def countuniquedigit(number):\n",
    "    d_list = []\n",
    "    for digit in number:\n",
    "        if digit not in d_list:\n",
    "            d_list.append(digit)\n",
    "    return len(d_list)"
   ]
  },
  {
   "cell_type": "code",
   "execution_count": null,
   "id": "f328690a",
   "metadata": {},
   "outputs": [],
   "source": [
    "number = input(\"Enter an integer:: \")\n",
    "d = countuniquedigit(number)\n",
    "print(\"Number of unique digit in an integer =\", d)"
   ]
  },
  {
   "cell_type": "code",
   "execution_count": null,
   "id": "340ceec4",
   "metadata": {},
   "outputs": [],
   "source": [
    "number = int(input(\"Enter an integer:: \"))\n",
    "print(number)\n",
    "print(type(number))\n",
    "d_list = []\n",
    "while number != 0:\n",
    "    r = number % 10\n",
    "    q = number // 10\n",
    "    number = q\n",
    "    if r not in d_list:\n",
    "        d_list.append(r)\n",
    "print(d_list)"
   ]
  },
  {
   "cell_type": "code",
   "execution_count": null,
   "id": "103e25b3",
   "metadata": {},
   "outputs": [],
   "source": [
    "5/2\n"
   ]
  },
  {
   "cell_type": "code",
   "execution_count": null,
   "id": "5eda4d39",
   "metadata": {},
   "outputs": [],
   "source": [
    "5//2"
   ]
  },
  {
   "cell_type": "code",
   "execution_count": null,
   "id": "3aecadce",
   "metadata": {},
   "outputs": [],
   "source": [
    "5%2\n"
   ]
  },
  {
   "cell_type": "code",
   "execution_count": null,
   "id": "ad802d2f",
   "metadata": {},
   "outputs": [],
   "source": [
    "def count_digit_interger(number):\n",
    "    d_list = []\n",
    "    while number != 0:\n",
    "        r = number % 10\n",
    "        q = number // 10\n",
    "        number = q\n",
    "        if r not in d_list:\n",
    "            d_list.append(r)\n",
    "    return len(d_list)"
   ]
  },
  {
   "cell_type": "code",
   "execution_count": null,
   "id": "ed315121",
   "metadata": {},
   "outputs": [],
   "source": [
    "count_digit_interger(125414231234)"
   ]
  },
  {
   "cell_type": "code",
   "execution_count": null,
   "id": "e40f2de5",
   "metadata": {},
   "outputs": [],
   "source": [
    "count_digit_interger(12315)"
   ]
  },
  {
   "cell_type": "code",
   "execution_count": 1,
   "id": "05576bcc",
   "metadata": {},
   "outputs": [],
   "source": [
    "class Course:\n",
    "    def __init__(self,code,name,credits,semester,instructor):\n",
    "        self.code = code\n",
    "        self.name = name\n",
    "        self.credits = credits\n",
    "        self.semester = semester\n",
    "        self.instructor = instructor\n",
    "        \n",
    "    def __str__(self):\n",
    "        return \"The name of our course is \" + self.name + \" and its code is \" + self.code + \" It has \" + str(self.credits) + \" credits and it is taught by Professor \" + self.instructor + \" in \" + self.semester + \" semester.\""
   ]
  },
  {
   "cell_type": "code",
   "execution_count": 2,
   "id": "4304aa44",
   "metadata": {},
   "outputs": [
    {
     "name": "stdout",
     "output_type": "stream",
     "text": [
      "Python Programming\n",
      "The name of our course is Python Programming and its code is B100 It has 3 credits and it is taught by Professor Mohammad in first semester.\n",
      "------------\n",
      "Data Structure\n",
      "The name of our course is Data Structure and its code is B101 It has 4 credits and it is taught by Professor Reza in first semester.\n",
      "------------\n",
      "Big Data\n",
      "The name of our course is Database and its code is B102 It has 5 credits and it is taught by Professor Reza in first semester.\n"
     ]
    }
   ],
   "source": [
    "c1 = Course(\"B100\",\"Python Programming\",3,\"first\",\"Mohammad\")\n",
    "c2 = Course(\"B101\",\"Data Structure\",4,\"first\",\"Reza\")\n",
    "c3 = Course(\"B102\",\"Database\",5,\"first\",\"Reza\")\n",
    "print(\"Python Programming\")\n",
    "print(c1)\n",
    "print(\"------------\")\n",
    "print(\"Data Structure\")\n",
    "print(c2)\n",
    "print(\"------------\")\n",
    "print(\"Big Data\")\n",
    "print(c3)"
   ]
  },
  {
   "cell_type": "code",
   "execution_count": 23,
   "id": "748eb29c",
   "metadata": {},
   "outputs": [],
   "source": [
    "class Student:\n",
    "    def __init__(self, first_name, last_name, number):\n",
    "        self.first_name = first_name\n",
    "        self.last_name = last_name\n",
    "        self.number = number\n",
    "        self.courses = {}\n",
    "        \n",
    "    def __str__(self):\n",
    "        return \"The student's name is \"+self.first_name+\" \"+self.last_name+\". Student number is \"+str(self.number)+'.'\n",
    "        \n",
    "    def set_course_mark(self, course, course_mark):\n",
    "        self.courses[course.name] = course_mark\n",
    "        \n",
    "    def get_gpa(self):\n",
    "        total = 0\n",
    "        for c in self.courses:\n",
    "            total += self.courses[c]\n",
    "            \n",
    "        return total/len(self.courses) "
   ]
  },
  {
   "cell_type": "code",
   "execution_count": 24,
   "id": "8643cb9b",
   "metadata": {},
   "outputs": [
    {
     "name": "stdout",
     "output_type": "stream",
     "text": [
      "{'Python Programming': 89, 'Data Structure': 90, 'Database': 85}\n",
      "88.0\n"
     ]
    }
   ],
   "source": [
    "s1 = Student('John', 'Herry', 3)\n",
    "s1.set_course_mark(c1, 89)\n",
    "s1.set_course_mark(c2, 90)\n",
    "s1.set_course_mark(c3, 85)\n",
    "print(s1.courses)\n",
    "print(s1.get_gpa())"
   ]
  },
  {
   "cell_type": "code",
   "execution_count": 25,
   "id": "bc623154",
   "metadata": {},
   "outputs": [
    {
     "name": "stdout",
     "output_type": "stream",
     "text": [
      "The student's name is Alex Helan. Student number is 2.\n",
      "{'Python Programming': 78, 'Data Structure': 80}\n",
      "GPA = 79.0\n"
     ]
    }
   ],
   "source": [
    "s2 = Student(\"Alex\", \"Helan\", 2)\n",
    "s2.set_course_mark(c1, 78)\n",
    "s2.set_course_mark(c2, 80)\n",
    "print(s2)\n",
    "print(s2.courses)\n",
    "print(\"GPA =\", s2.get_gpa())"
   ]
  },
  {
   "cell_type": "code",
   "execution_count": 26,
   "id": "7f858414",
   "metadata": {},
   "outputs": [
    {
     "name": "stdout",
     "output_type": "stream",
     "text": [
      "The student's name is Bob Helan. Student number is 5.\n",
      "{'Python Programming': 50, 'Data Structure': 30}\n",
      "GPA = 40.0\n"
     ]
    }
   ],
   "source": [
    "s3 = Student(\"Bob\", \"Helan\", 5)\n",
    "s3.set_course_mark(c1, 50)\n",
    "s3.set_course_mark(c2, 30)\n",
    "print(s3)\n",
    "print(s3.courses)\n",
    "print(\"GPA =\", s3.get_gpa())"
   ]
  },
  {
   "cell_type": "code",
   "execution_count": 27,
   "id": "f566ad0d",
   "metadata": {},
   "outputs": [
    {
     "name": "stdout",
     "output_type": "stream",
     "text": [
      "The student's name is Kyle Havert. Student number is 1.\n",
      "{'Python Programming': 89, 'Data Structure': 85, 'Database': 78}\n",
      "GPA = 84.0\n"
     ]
    }
   ],
   "source": [
    "s4 = Student(\"Kyle\", \"Havert\", 1)\n",
    "s4.set_course_mark(c1, 89)\n",
    "s4.set_course_mark(c2, 85)\n",
    "s4.set_course_mark(c3, 78)\n",
    "print(s4)\n",
    "print(s4.courses)\n",
    "print(\"GPA =\", s4.get_gpa())"
   ]
  },
  {
   "cell_type": "code",
   "execution_count": 28,
   "id": "2fb7b5ef",
   "metadata": {},
   "outputs": [],
   "source": [
    "class University:\n",
    "    def __init__(self, name):\n",
    "        self.name = name\n",
    "        self.students =[]\n",
    "        \n",
    "    def __str__(self):\n",
    "        return self.name+\" University.\"\n",
    "    \n",
    "    def register_student(self, student):\n",
    "        self.students.append(student)\n",
    "        \n",
    "    def graduate_student(self):\n",
    "        for s in self.students:\n",
    "            if(s.get_gpa() > 50):\n",
    "                print(s,\"and his/her GPA is\",s.get_gpa())"
   ]
  },
  {
   "cell_type": "code",
   "execution_count": 36,
   "id": "bf0887cd",
   "metadata": {},
   "outputs": [
    {
     "name": "stdout",
     "output_type": "stream",
     "text": [
      "GISMA University.\n",
      "\n",
      "Registered Student\n",
      "-------------------\n",
      "John Herry\n",
      "     --> Python Programming  :  89\n",
      "     --> Data Structure  :  90\n",
      "     --> Database  :  85\n",
      "Alex Helan\n",
      "     --> Python Programming  :  78\n",
      "     --> Data Structure  :  80\n",
      "Bob Helan\n",
      "     --> Python Programming  :  50\n",
      "     --> Data Structure  :  30\n",
      "Kyle Havert\n",
      "     --> Python Programming  :  89\n",
      "     --> Data Structure  :  85\n",
      "     --> Database  :  78\n",
      "\n",
      "Graduate Student\n",
      "----------------\n",
      "The student's name is John Herry. Student number is 3. and his/her GPA is 88.0\n",
      "The student's name is Alex Helan. Student number is 2. and his/her GPA is 79.0\n",
      "The student's name is Kyle Havert. Student number is 1. and his/her GPA is 84.0\n"
     ]
    }
   ],
   "source": [
    "u = University(\"GISMA\")\n",
    "u.register_student(s1)\n",
    "u.register_student(s2)\n",
    "u.register_student(s3)\n",
    "u.register_student(s4)\n",
    "print(u)\n",
    "print(\"\\nRegistered Student\")\n",
    "print(\"-------------------\")\n",
    "for s in u.students:\n",
    "    print(s.first_name,s.last_name)\n",
    "    for c,m in s.courses.items():\n",
    "        print(\"     -->\", c,\" : \",m)\n",
    "print(\"\\nGraduate Student\")\n",
    "print(\"----------------\")\n",
    "u.graduate_student()"
   ]
  },
  {
   "cell_type": "code",
   "execution_count": 34,
   "id": "2935660e",
   "metadata": {},
   "outputs": [
    {
     "name": "stdout",
     "output_type": "stream",
     "text": [
      "1 --> 100\n",
      "2 --> 200\n",
      "3 --> 300\n"
     ]
    }
   ],
   "source": [
    "d = {1:100,2:200,3:300}\n",
    "for k,v in d.items():\n",
    "    print(k,\"-->\",v)"
   ]
  },
  {
   "cell_type": "code",
   "execution_count": null,
   "id": "4405ca2a",
   "metadata": {},
   "outputs": [],
   "source": []
  }
 ],
 "metadata": {
  "kernelspec": {
   "display_name": "Python 3 (ipykernel)",
   "language": "python",
   "name": "python3"
  },
  "language_info": {
   "codemirror_mode": {
    "name": "ipython",
    "version": 3
   },
   "file_extension": ".py",
   "mimetype": "text/x-python",
   "name": "python",
   "nbconvert_exporter": "python",
   "pygments_lexer": "ipython3",
   "version": "3.10.8"
  }
 },
 "nbformat": 4,
 "nbformat_minor": 5
}
