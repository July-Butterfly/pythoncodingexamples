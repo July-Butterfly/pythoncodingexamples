{
 "cells": [
  {
   "cell_type": "code",
   "execution_count": null,
   "id": "0e1f2043",
   "metadata": {},
   "outputs": [],
   "source": [
    "d = {}\n",
    "print(type(d))"
   ]
  },
  {
   "cell_type": "code",
   "execution_count": null,
   "id": "d11e1340",
   "metadata": {},
   "outputs": [],
   "source": [
    "print(len(d))"
   ]
  },
  {
   "cell_type": "code",
   "execution_count": null,
   "id": "7285a08e",
   "metadata": {},
   "outputs": [],
   "source": [
    "d[1] = \"abc\""
   ]
  },
  {
   "cell_type": "code",
   "execution_count": null,
   "id": "aa3d8bd2",
   "metadata": {},
   "outputs": [],
   "source": [
    "print(d)"
   ]
  },
  {
   "cell_type": "code",
   "execution_count": null,
   "id": "b3258169",
   "metadata": {},
   "outputs": [],
   "source": [
    "d[2] = 'xyz'"
   ]
  },
  {
   "cell_type": "code",
   "execution_count": null,
   "id": "ab8bf5ed",
   "metadata": {},
   "outputs": [],
   "source": [
    "print(d[2])"
   ]
  },
  {
   "cell_type": "code",
   "execution_count": null,
   "id": "85dc0013",
   "metadata": {},
   "outputs": [],
   "source": [
    "print(d[7])"
   ]
  },
  {
   "cell_type": "code",
   "execution_count": null,
   "id": "4a5fc5d2",
   "metadata": {},
   "outputs": [],
   "source": [
    "del d[1]"
   ]
  },
  {
   "cell_type": "code",
   "execution_count": null,
   "id": "770e8964",
   "metadata": {},
   "outputs": [],
   "source": [
    "print(d)"
   ]
  },
  {
   "cell_type": "code",
   "execution_count": null,
   "id": "581760f8",
   "metadata": {},
   "outputs": [],
   "source": [
    "d[2] = 'ghi'"
   ]
  },
  {
   "cell_type": "markdown",
   "id": "48146f9e",
   "metadata": {},
   "source": [
    "String Matching (Brute Force: Compare the given pattern against all positions in the text.)"
   ]
  },
  {
   "cell_type": "code",
   "execution_count": null,
   "id": "c98b7d8d",
   "metadata": {},
   "outputs": [],
   "source": [
    "s = 'ccaccdbaaaedba'\n",
    "pattern = 'dba'\n",
    "n = len(s)\n",
    "pw = len(pattern)\n",
    "\n",
    "code = {'a' : 1, 'b' : 2, 'c' : 3, 'd' : 4, 'e' : 5}\n",
    "\n",
    "def get_hash(word):\n",
    "    return sum([code[char] for char in word])\n",
    "\n",
    "res = []\n",
    "pattern_hash = get_hash(pattern)\n",
    "#print(pattern_hash)\n",
    "\n",
    "for i in range(n-pw+1):\n",
    "    if get_hash(s[i:i+pw]) == pattern_hash and s[i:i+pw] == pattern:\n",
    "        res.append(i)\n",
    "print(res)"
   ]
  },
  {
   "cell_type": "markdown",
   "id": "7f3a3075",
   "metadata": {},
   "source": [
    "String Matching (Rolling hash:Karp-Rabin algorithm)"
   ]
  },
  {
   "cell_type": "code",
   "execution_count": null,
   "id": "f34434ba",
   "metadata": {},
   "outputs": [],
   "source": [
    "s = 'ccaccdbaaaedba'\n",
    "pattern = 'dba'\n",
    "n = len(s)\n",
    "pw = len(pattern)\n",
    "code = {'a' : 1, 'b' : 2, 'c' : 3, 'd' : 4, 'e' : 5}\n",
    "\n",
    "def get_hash(word):\n",
    "    return sum([code[char]*(10**(pw-1-idx)) for idx,  char in enumerate(word)])\n",
    "\n",
    "res = []\n",
    "pattern_hash = get_hash(pattern)\n",
    "for i in range(n-pw+1):\n",
    "    if get_hash(s[i:i+pw]) == pattern_hash and s[i:i+pw] == pattern:\n",
    "        res.append(i)\n",
    "        \n",
    "print(res)"
   ]
  },
  {
   "cell_type": "markdown",
   "id": "7db18bc3",
   "metadata": {},
   "source": [
    "Implement Hashtable Chaining"
   ]
  },
  {
   "cell_type": "code",
   "execution_count": 12,
   "id": "17d5d828",
   "metadata": {},
   "outputs": [],
   "source": [
    "class myHashTable:\n",
    "    def __init__(self):\n",
    "        self.slots = 7\n",
    "        self.head =  [[] for _ in range(self.slots)]\n",
    "        \n",
    "    def display_hash(self):\n",
    "        for i in range(self.slots):\n",
    "            print(i, end = \" \")\n",
    "            for j in self.head[i]:\n",
    "                print(\"-->\", end = \" \")\n",
    "                print(j, end = \" \")\n",
    "            print()\n",
    "    \n",
    "    def Hashing(self,keyvalue):\n",
    "        return keyvalue % self.slots\n",
    "\n",
    "            \n",
    "    def insert(self, keyvalue, value):\n",
    "        hash_key = self.Hashing(keyvalue)\n",
    "        self.head[hash_key].append(value)\n",
    "        \n",
    "    def remove(self, keyvalue):\n",
    "        pass\n",
    "    \n",
    "    def search(self, keyvalue):\n",
    "        pass"
   ]
  },
  {
   "cell_type": "code",
   "execution_count": 13,
   "id": "5ed4abe0",
   "metadata": {},
   "outputs": [],
   "source": [
    "hh = myHashTable()"
   ]
  },
  {
   "cell_type": "code",
   "execution_count": 20,
   "id": "948ec22d",
   "metadata": {},
   "outputs": [],
   "source": [
    "hh.insert(6,56)\n",
    "hh.insert(14,65)\n",
    "hh.insert(4,98)\n",
    "hh.insert(3,78)\n",
    "hh.insert(18,55)"
   ]
  },
  {
   "cell_type": "code",
   "execution_count": 21,
   "id": "5c201a66",
   "metadata": {},
   "outputs": [
    {
     "name": "stdout",
     "output_type": "stream",
     "text": [
      "0 --> 34 --> 65 --> 65 \n",
      "1 \n",
      "2 \n",
      "3 --> 78 \n",
      "4 --> 98 --> 55 \n",
      "5 \n",
      "6 --> 56 --> 56 \n"
     ]
    }
   ],
   "source": [
    "hh.display_hash()"
   ]
  },
  {
   "cell_type": "markdown",
   "id": "9d613240",
   "metadata": {},
   "source": [
    "Implement Hashtable Open Addressing (linear porbing)"
   ]
  },
  {
   "cell_type": "code",
   "execution_count": null,
   "id": "c6a06113",
   "metadata": {},
   "outputs": [],
   "source": [
    "class HashTable:\n",
    "    def __init__(self):\n",
    "        self.slots = 5\n",
    "        self.length = 0\n",
    "        self.table = [None] * self.slots\n",
    "        \n",
    "    def get_all(self):\n",
    "        return self.table\n",
    "\n",
    "    def set(self,key,value):\n",
    "        if(self.slots <= self.length):\n",
    "            raise Exception(\"Hashtable is FULL\")\n",
    "        self.length += 1\n",
    "        index = key % self.slots\n",
    "        while self.table[index] is not None:\n",
    "            if self.table[index] == key:\n",
    "                self.length -= 1\n",
    "                return\n",
    "            index = (index+1) % self.slots\n",
    "        tuple = (key,value)\n",
    "        self.table[index] = tuple\n",
    "\n",
    "\n",
    "    def get(self,key):\n",
    "        index = self.find_item(key)\n",
    "        return self.table[index][1]\n",
    "\n",
    "\n",
    "    def remove(self,key):\n",
    "        index = self.find_item(key)\n",
    "        self.table[index] = None\n",
    "\n",
    "\n",
    "    def hash(self,key):\n",
    "        return key%self.slots\n",
    "\n",
    "\n",
    "    def increment(self,key):\n",
    "        return (key+1) % self.slots\n",
    "\n",
    "\n",
    "    def find_item(self,key):\n",
    "        index = self.hash(key)\n",
    "        if self.table[index] == None:\n",
    "            raise KeyError\n",
    "        if self.table[index][0] != key:\n",
    "            original_key = index\n",
    "            while self.table[index][0] != key:\n",
    "                index = self.increment(index)\n",
    "                if self.table[index] is None:\n",
    "                    raise KeyError\n",
    "                if index == original_key:\n",
    "                    raise KeyError\n",
    "        return index"
   ]
  },
  {
   "cell_type": "code",
   "execution_count": null,
   "id": "ec88dd48",
   "metadata": {},
   "outputs": [],
   "source": [
    "h = HashTable()"
   ]
  },
  {
   "cell_type": "code",
   "execution_count": null,
   "id": "ee5539bf",
   "metadata": {},
   "outputs": [],
   "source": [
    "h.set(4,9)"
   ]
  },
  {
   "cell_type": "code",
   "execution_count": null,
   "id": "2a7d1805",
   "metadata": {},
   "outputs": [],
   "source": [
    "h.get_all()"
   ]
  },
  {
   "cell_type": "code",
   "execution_count": null,
   "id": "32963cea",
   "metadata": {},
   "outputs": [],
   "source": [
    "h.set(8,45)"
   ]
  },
  {
   "cell_type": "code",
   "execution_count": null,
   "id": "5a90308a",
   "metadata": {},
   "outputs": [],
   "source": [
    "h.set(13,76)"
   ]
  },
  {
   "cell_type": "code",
   "execution_count": null,
   "id": "5bec205b",
   "metadata": {},
   "outputs": [],
   "source": [
    "print(h.length)"
   ]
  },
  {
   "cell_type": "code",
   "execution_count": null,
   "id": "38abec7e",
   "metadata": {},
   "outputs": [],
   "source": [
    "h.set(9,54)"
   ]
  },
  {
   "cell_type": "code",
   "execution_count": null,
   "id": "51efbe5e",
   "metadata": {},
   "outputs": [],
   "source": [
    "h.get_all()"
   ]
  },
  {
   "cell_type": "code",
   "execution_count": null,
   "id": "e2525e0b",
   "metadata": {},
   "outputs": [],
   "source": [
    "h.set(6,89)"
   ]
  },
  {
   "cell_type": "code",
   "execution_count": null,
   "id": "b97459b9",
   "metadata": {},
   "outputs": [],
   "source": [
    "h.get_all()"
   ]
  },
  {
   "cell_type": "code",
   "execution_count": null,
   "id": "d31c3c58",
   "metadata": {},
   "outputs": [],
   "source": [
    "h.set(7,66)"
   ]
  },
  {
   "cell_type": "code",
   "execution_count": null,
   "id": "4bbd28ec",
   "metadata": {},
   "outputs": [],
   "source": [
    "h.get_all()"
   ]
  },
  {
   "cell_type": "code",
   "execution_count": null,
   "id": "e051a2dd",
   "metadata": {},
   "outputs": [],
   "source": []
  }
 ],
 "metadata": {
  "kernelspec": {
   "display_name": "Python 3 (ipykernel)",
   "language": "python",
   "name": "python3"
  },
  "language_info": {
   "codemirror_mode": {
    "name": "ipython",
    "version": 3
   },
   "file_extension": ".py",
   "mimetype": "text/x-python",
   "name": "python",
   "nbconvert_exporter": "python",
   "pygments_lexer": "ipython3",
   "version": "3.10.8"
  }
 },
 "nbformat": 4,
 "nbformat_minor": 5
}
