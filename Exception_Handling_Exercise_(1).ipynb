{
  "cells": [
    {
      "cell_type": "markdown",
      "metadata": {
        "id": "view-in-github",
        "colab_type": "text"
      },
      "source": [
        "<a href=\"https://colab.research.google.com/github/July-Butterfly/pythoncodingexamples/blob/main/Exception_Handling_Exercise_(1).ipynb\" target=\"_parent\"><img src=\"https://colab.research.google.com/assets/colab-badge.svg\" alt=\"Open In Colab\"/></a>"
      ]
    },
    {
      "cell_type": "code",
      "execution_count": null,
      "id": "f26072d5",
      "metadata": {
        "id": "f26072d5"
      },
      "outputs": [],
      "source": [
        "class Person:\n",
        "    def __init__(self,name,age):\n",
        "        self.name = name\n",
        "        self.age = age\n",
        "            \n",
        "    def __str__(self):\n",
        "        return \"This is \"+self.name+\". I am \"+str(self.age)+\".\""
      ]
    },
    {
      "cell_type": "code",
      "execution_count": null,
      "id": "0d680a49",
      "metadata": {
        "id": "0d680a49",
        "outputId": "bc37d608-5f25-4c95-c9f8-0623076191af",
        "colab": {
          "base_uri": "https://localhost:8080/"
        }
      },
      "outputs": [
        {
          "output_type": "stream",
          "name": "stdout",
          "text": [
            "This is John. I am 20.\n"
          ]
        }
      ],
      "source": [
        "p1 = Person(\"John\",20)\n",
        "print(p1)"
      ]
    },
    {
      "cell_type": "code",
      "execution_count": null,
      "id": "9414ae10",
      "metadata": {
        "id": "9414ae10"
      },
      "outputs": [],
      "source": [
        "def runcalc(x):\n",
        "    return x/0"
      ]
    },
    {
      "cell_type": "code",
      "execution_count": null,
      "id": "ec0cb578",
      "metadata": {
        "id": "ec0cb578",
        "outputId": "1c677d53-1dc9-497f-ed60-087745e686e2",
        "colab": {
          "base_uri": "https://localhost:8080/",
          "height": 244
        }
      },
      "outputs": [
        {
          "output_type": "error",
          "ename": "ZeroDivisionError",
          "evalue": "ignored",
          "traceback": [
            "\u001b[0;31m---------------------------------------------------------------------------\u001b[0m",
            "\u001b[0;31mZeroDivisionError\u001b[0m                         Traceback (most recent call last)",
            "\u001b[0;32m<ipython-input-6-11fa00db35ac>\u001b[0m in \u001b[0;36m<module>\u001b[0;34m\u001b[0m\n\u001b[0;32m----> 1\u001b[0;31m \u001b[0mruncalc\u001b[0m\u001b[0;34m(\u001b[0m\u001b[0;36m6\u001b[0m\u001b[0;34m)\u001b[0m\u001b[0;34m\u001b[0m\u001b[0;34m\u001b[0m\u001b[0m\n\u001b[0m",
            "\u001b[0;32m<ipython-input-5-c91b74d76992>\u001b[0m in \u001b[0;36mruncalc\u001b[0;34m(x)\u001b[0m\n\u001b[1;32m      1\u001b[0m \u001b[0;32mdef\u001b[0m \u001b[0mruncalc\u001b[0m\u001b[0;34m(\u001b[0m\u001b[0mx\u001b[0m\u001b[0;34m)\u001b[0m\u001b[0;34m:\u001b[0m\u001b[0;34m\u001b[0m\u001b[0;34m\u001b[0m\u001b[0m\n\u001b[0;32m----> 2\u001b[0;31m     \u001b[0;32mreturn\u001b[0m \u001b[0mx\u001b[0m\u001b[0;34m/\u001b[0m\u001b[0;36m0\u001b[0m\u001b[0;34m\u001b[0m\u001b[0;34m\u001b[0m\u001b[0m\n\u001b[0m",
            "\u001b[0;31mZeroDivisionError\u001b[0m: division by zero"
          ]
        }
      ],
      "source": [
        "runcalc(6)"
      ]
    },
    {
      "cell_type": "code",
      "execution_count": null,
      "id": "e0dc7c7e",
      "metadata": {
        "id": "e0dc7c7e",
        "outputId": "12091815-0a3b-4aa2-9217-8f30b6fad34e",
        "colab": {
          "base_uri": "https://localhost:8080/"
        }
      },
      "outputs": [
        {
          "output_type": "stream",
          "name": "stdout",
          "text": [
            "OOPs....We can't divide any number by zero\n"
          ]
        }
      ],
      "source": [
        "try:\n",
        "    runcalc(6)\n",
        "except:\n",
        "    print(\"OOPs....We can't divide any number by zero\")"
      ]
    },
    {
      "cell_type": "code",
      "execution_count": null,
      "id": "2848d648",
      "metadata": {
        "id": "2848d648",
        "outputId": "5e7599be-44ba-4f9d-ad93-709aa15b552f",
        "colab": {
          "base_uri": "https://localhost:8080/"
        }
      },
      "outputs": [
        {
          "output_type": "stream",
          "name": "stdout",
          "text": [
            "division by zero\n"
          ]
        }
      ],
      "source": [
        "try:\n",
        "    runcalc(3)\n",
        "except ZeroDivisionError as zde:\n",
        "    print(zde)"
      ]
    },
    {
      "cell_type": "code",
      "execution_count": null,
      "id": "6055c1c0",
      "metadata": {
        "id": "6055c1c0"
      },
      "outputs": [],
      "source": [
        "def myFunction(x,y):\n",
        "    print(\"My Function IN\")\n",
        "    result = x/y\n",
        "    print(\"My Function OUT\")\n",
        "    return result"
      ]
    },
    {
      "cell_type": "code",
      "execution_count": null,
      "id": "5e1b8652",
      "metadata": {
        "id": "5e1b8652",
        "outputId": "b98385cd-58e9-4ee5-b877-c35ca03fc3a5",
        "colab": {
          "base_uri": "https://localhost:8080/"
        }
      },
      "outputs": [
        {
          "output_type": "stream",
          "name": "stdout",
          "text": [
            "Enter x: 2\n",
            "Enter y: 5\n",
            "My Function IN\n",
            "My Function OUT\n",
            "Result = 0.4\n",
            "Everything is OK\n",
            "Always execute\n"
          ]
        }
      ],
      "source": [
        "try:\n",
        "    x = int(input(\"Enter x: \"))\n",
        "    y = int(input(\"Enter y: \"))\n",
        "    print(\"Result =\", myFunction(x, y))\n",
        "except ValueError as e:\n",
        "    print(\"ValueError-->\", e)\n",
        "except ZeroDivisionError as e:\n",
        "    print(\"ZeroDivisionError-->\", e)\n",
        "else:\n",
        "    print(\"Everything is OK\")\n",
        "finally:\n",
        "    print(\"Always execute\")"
      ]
    },
    {
      "cell_type": "code",
      "execution_count": null,
      "id": "754b7af4",
      "metadata": {
        "id": "754b7af4"
      },
      "outputs": [],
      "source": [
        "#raising an exception\n",
        "def function_bang(a):\n",
        "    if a < 0:\n",
        "        raise ValueError(\"Your number is negative!!!\")\n",
        "    else:\n",
        "        print(\"Your number is\", a)"
      ]
    },
    {
      "cell_type": "code",
      "execution_count": null,
      "id": "3e75b42b",
      "metadata": {
        "id": "3e75b42b",
        "outputId": "4ad3e264-e5e8-4d73-843d-45fa19b8db11",
        "colab": {
          "base_uri": "https://localhost:8080/"
        }
      },
      "outputs": [
        {
          "output_type": "stream",
          "name": "stdout",
          "text": [
            "Your number is 2\n"
          ]
        }
      ],
      "source": [
        "function_bang(2)"
      ]
    },
    {
      "cell_type": "code",
      "execution_count": null,
      "id": "a60d8aa2",
      "metadata": {
        "id": "a60d8aa2",
        "outputId": "3b872753-5ba0-4d20-810f-e2bea0aef3b1",
        "colab": {
          "base_uri": "https://localhost:8080/",
          "height": 299
        }
      },
      "outputs": [
        {
          "output_type": "error",
          "ename": "ValueError",
          "evalue": "ignored",
          "traceback": [
            "\u001b[0;31m---------------------------------------------------------------------------\u001b[0m",
            "\u001b[0;31mValueError\u001b[0m                                Traceback (most recent call last)",
            "\u001b[0;32m<ipython-input-19-9fadbcf5a952>\u001b[0m in \u001b[0;36m<module>\u001b[0;34m\u001b[0m\n\u001b[0;32m----> 1\u001b[0;31m \u001b[0mfunction_bang\u001b[0m\u001b[0;34m(\u001b[0m\u001b[0;34m-\u001b[0m\u001b[0;36m3\u001b[0m\u001b[0;34m)\u001b[0m\u001b[0;34m\u001b[0m\u001b[0;34m\u001b[0m\u001b[0m\n\u001b[0m",
            "\u001b[0;32m<ipython-input-17-5b6e1b32bb33>\u001b[0m in \u001b[0;36mfunction_bang\u001b[0;34m(a)\u001b[0m\n\u001b[1;32m      2\u001b[0m \u001b[0;32mdef\u001b[0m \u001b[0mfunction_bang\u001b[0m\u001b[0;34m(\u001b[0m\u001b[0ma\u001b[0m\u001b[0;34m)\u001b[0m\u001b[0;34m:\u001b[0m\u001b[0;34m\u001b[0m\u001b[0;34m\u001b[0m\u001b[0m\n\u001b[1;32m      3\u001b[0m     \u001b[0;32mif\u001b[0m \u001b[0ma\u001b[0m \u001b[0;34m<\u001b[0m \u001b[0;36m0\u001b[0m\u001b[0;34m:\u001b[0m\u001b[0;34m\u001b[0m\u001b[0;34m\u001b[0m\u001b[0m\n\u001b[0;32m----> 4\u001b[0;31m         \u001b[0;32mraise\u001b[0m \u001b[0mValueError\u001b[0m\u001b[0;34m(\u001b[0m\u001b[0;34m\"Your number is negative!!!\"\u001b[0m\u001b[0;34m)\u001b[0m\u001b[0;34m\u001b[0m\u001b[0;34m\u001b[0m\u001b[0m\n\u001b[0m\u001b[1;32m      5\u001b[0m     \u001b[0;32melse\u001b[0m\u001b[0;34m:\u001b[0m\u001b[0;34m\u001b[0m\u001b[0;34m\u001b[0m\u001b[0m\n\u001b[1;32m      6\u001b[0m         \u001b[0mprint\u001b[0m\u001b[0;34m(\u001b[0m\u001b[0;34m\"Your number is\"\u001b[0m\u001b[0;34m,\u001b[0m \u001b[0ma\u001b[0m\u001b[0;34m)\u001b[0m\u001b[0;34m\u001b[0m\u001b[0;34m\u001b[0m\u001b[0m\n",
            "\u001b[0;31mValueError\u001b[0m: Your number is negative!!!"
          ]
        }
      ],
      "source": [
        "function_bang(-3)"
      ]
    },
    {
      "cell_type": "code",
      "execution_count": null,
      "id": "fb422e41",
      "metadata": {
        "id": "fb422e41"
      },
      "outputs": [],
      "source": [
        "class Person:\n",
        "    def __init__(self,name,age):\n",
        "        self.set_name(name)\n",
        "        self.set_age(age)\n",
        "        \n",
        "    def set_name(self,name):\n",
        "        self.name = name\n",
        "        \n",
        "    def set_age(self,age):\n",
        "        if age >= 1 and age <= 100 and isinstance(age,int):\n",
        "            self.age = age\n",
        "        else:\n",
        "            raise InvalidAgeException(age)\n",
        "            \n",
        "    def __str__(self):\n",
        "        return \"This is \"+self.name+\". I am \"+str(self.age)+\".\"\n",
        "        "
      ]
    },
    {
      "cell_type": "code",
      "execution_count": null,
      "id": "49b4a06f",
      "metadata": {
        "id": "49b4a06f"
      },
      "outputs": [],
      "source": [
        "## InvalidAgeException is Exception\n",
        "class InvalidAgeException(Exception):\n",
        "    def __init__(self,value):\n",
        "        self.value = value\n",
        "    def __str__(self):\n",
        "        return \"InvalidAgeException(\"+str(self.value)+\")\""
      ]
    },
    {
      "cell_type": "code",
      "execution_count": null,
      "id": "758e8f3d",
      "metadata": {
        "id": "758e8f3d",
        "outputId": "eaaeb54a-aad9-4a1c-a663-2ef2cb0b4651",
        "colab": {
          "base_uri": "https://localhost:8080/"
        }
      },
      "outputs": [
        {
          "output_type": "stream",
          "name": "stdout",
          "text": [
            "This is Alex. I am 20.\n"
          ]
        }
      ],
      "source": [
        "p2 = Person(\"Alex\",20)\n",
        "print(p2)"
      ]
    },
    {
      "cell_type": "code",
      "execution_count": null,
      "id": "543a9fd9",
      "metadata": {
        "id": "543a9fd9",
        "outputId": "94056789-d6a2-4661-f91f-c8fde6ad7a4f",
        "colab": {
          "base_uri": "https://localhost:8080/",
          "height": 341
        }
      },
      "outputs": [
        {
          "output_type": "error",
          "ename": "InvalidAgeException",
          "evalue": "ignored",
          "traceback": [
            "\u001b[0;31m---------------------------------------------------------------------------\u001b[0m",
            "\u001b[0;31mInvalidAgeException\u001b[0m                       Traceback (most recent call last)",
            "\u001b[0;32m<ipython-input-23-e138e7cbff4e>\u001b[0m in \u001b[0;36m<module>\u001b[0;34m\u001b[0m\n\u001b[0;32m----> 1\u001b[0;31m \u001b[0mp3\u001b[0m \u001b[0;34m=\u001b[0m \u001b[0mPerson\u001b[0m\u001b[0;34m(\u001b[0m\u001b[0;34m\"Bob\"\u001b[0m\u001b[0;34m,\u001b[0m\u001b[0;34m-\u001b[0m\u001b[0;36m20\u001b[0m\u001b[0;34m)\u001b[0m\u001b[0;34m\u001b[0m\u001b[0;34m\u001b[0m\u001b[0m\n\u001b[0m\u001b[1;32m      2\u001b[0m \u001b[0mprint\u001b[0m\u001b[0;34m(\u001b[0m\u001b[0mp3\u001b[0m\u001b[0;34m)\u001b[0m\u001b[0;34m\u001b[0m\u001b[0;34m\u001b[0m\u001b[0m\n",
            "\u001b[0;32m<ipython-input-20-de6f9ead2bb4>\u001b[0m in \u001b[0;36m__init__\u001b[0;34m(self, name, age)\u001b[0m\n\u001b[1;32m      2\u001b[0m     \u001b[0;32mdef\u001b[0m \u001b[0m__init__\u001b[0m\u001b[0;34m(\u001b[0m\u001b[0mself\u001b[0m\u001b[0;34m,\u001b[0m\u001b[0mname\u001b[0m\u001b[0;34m,\u001b[0m\u001b[0mage\u001b[0m\u001b[0;34m)\u001b[0m\u001b[0;34m:\u001b[0m\u001b[0;34m\u001b[0m\u001b[0;34m\u001b[0m\u001b[0m\n\u001b[1;32m      3\u001b[0m         \u001b[0mself\u001b[0m\u001b[0;34m.\u001b[0m\u001b[0mset_name\u001b[0m\u001b[0;34m(\u001b[0m\u001b[0mname\u001b[0m\u001b[0;34m)\u001b[0m\u001b[0;34m\u001b[0m\u001b[0;34m\u001b[0m\u001b[0m\n\u001b[0;32m----> 4\u001b[0;31m         \u001b[0mself\u001b[0m\u001b[0;34m.\u001b[0m\u001b[0mset_age\u001b[0m\u001b[0;34m(\u001b[0m\u001b[0mage\u001b[0m\u001b[0;34m)\u001b[0m\u001b[0;34m\u001b[0m\u001b[0;34m\u001b[0m\u001b[0m\n\u001b[0m\u001b[1;32m      5\u001b[0m \u001b[0;34m\u001b[0m\u001b[0m\n\u001b[1;32m      6\u001b[0m     \u001b[0;32mdef\u001b[0m \u001b[0mset_name\u001b[0m\u001b[0;34m(\u001b[0m\u001b[0mself\u001b[0m\u001b[0;34m,\u001b[0m\u001b[0mname\u001b[0m\u001b[0;34m)\u001b[0m\u001b[0;34m:\u001b[0m\u001b[0;34m\u001b[0m\u001b[0;34m\u001b[0m\u001b[0m\n",
            "\u001b[0;32m<ipython-input-20-de6f9ead2bb4>\u001b[0m in \u001b[0;36mset_age\u001b[0;34m(self, age)\u001b[0m\n\u001b[1;32m     11\u001b[0m             \u001b[0mself\u001b[0m\u001b[0;34m.\u001b[0m\u001b[0mage\u001b[0m \u001b[0;34m=\u001b[0m \u001b[0mage\u001b[0m\u001b[0;34m\u001b[0m\u001b[0;34m\u001b[0m\u001b[0m\n\u001b[1;32m     12\u001b[0m         \u001b[0;32melse\u001b[0m\u001b[0;34m:\u001b[0m\u001b[0;34m\u001b[0m\u001b[0;34m\u001b[0m\u001b[0m\n\u001b[0;32m---> 13\u001b[0;31m             \u001b[0;32mraise\u001b[0m \u001b[0mInvalidAgeException\u001b[0m\u001b[0;34m(\u001b[0m\u001b[0mage\u001b[0m\u001b[0;34m)\u001b[0m\u001b[0;34m\u001b[0m\u001b[0;34m\u001b[0m\u001b[0m\n\u001b[0m\u001b[1;32m     14\u001b[0m \u001b[0;34m\u001b[0m\u001b[0m\n\u001b[1;32m     15\u001b[0m     \u001b[0;32mdef\u001b[0m \u001b[0m__str__\u001b[0m\u001b[0;34m(\u001b[0m\u001b[0mself\u001b[0m\u001b[0;34m)\u001b[0m\u001b[0;34m:\u001b[0m\u001b[0;34m\u001b[0m\u001b[0;34m\u001b[0m\u001b[0m\n",
            "\u001b[0;31mInvalidAgeException\u001b[0m: InvalidAgeException(-20)"
          ]
        }
      ],
      "source": [
        "p3 = Person(\"Bob\",-20)\n",
        "print(p3)"
      ]
    },
    {
      "cell_type": "code",
      "execution_count": null,
      "id": "f27963db",
      "metadata": {
        "id": "f27963db",
        "outputId": "272be538-ed39-426e-b15b-b54d66dfec27",
        "colab": {
          "base_uri": "https://localhost:8080/"
        }
      },
      "outputs": [
        {
          "output_type": "stream",
          "name": "stdout",
          "text": [
            "Looking in indexes: https://pypi.org/simple, https://us-python.pkg.dev/colab-wheels/public/simple/\n",
            "Requirement already satisfied: numpy in /usr/local/lib/python3.7/dist-packages (1.21.6)\n"
          ]
        }
      ],
      "source": [
        "pip install numpy"
      ]
    },
    {
      "cell_type": "code",
      "execution_count": null,
      "id": "079142da",
      "metadata": {
        "id": "079142da",
        "outputId": "59833feb-109e-41fe-fc37-5c19e8034a0f",
        "colab": {
          "base_uri": "https://localhost:8080/"
        }
      },
      "outputs": [
        {
          "output_type": "stream",
          "name": "stdout",
          "text": [
            "54\n"
          ]
        }
      ],
      "source": [
        "import numpy as np\n",
        "a = np.array([34,23,54,76,87])\n",
        "try:\n",
        "    print(a[2])\n",
        "except IndexError as e:\n",
        "    print(e)"
      ]
    },
    {
      "cell_type": "code",
      "execution_count": 59,
      "id": "8e9ddb81",
      "metadata": {
        "id": "8e9ddb81"
      },
      "outputs": [],
      "source": [
        "import re\n",
        "from datetime import datetime\n",
        "class Person:\n",
        "    def __init__(self,passport_number,name,birthday,email_address):\n",
        "        self.set_passport_number(passport_number)\n",
        "        self.set_name(name)\n",
        "        self.set_birthday(birthday)\n",
        "        self.set_email_address(email_address)\n",
        "\n",
        "    def __str__(self):\n",
        "        return \"Name: \"+self.name+'\\nPassport Number: '+self.passport_number+\"\\n\"+\"Birthday: \"+self.birthday.strftime('%d.%m.%Y')+\"\\nEmail: \"+self.email_address\n",
        "\n",
        "    def set_name(self, name):\n",
        "        if len(name) >= 3 and len(name) <= 20:\n",
        "            self.name = name\n",
        "        else:\n",
        "            raise InvalidName(\"Your name is invalid\")\n",
        "\n",
        "    def set_passport_number(self, passport_number):\n",
        "        if (passport_number[0].isalpha() and len(passport_number) == 9):\n",
        "          for letter in passport_number:\n",
        "              if not letter.isalnum():\n",
        "                  raise InvalidPassportNumber(\"Your passport number is invalid\")\n",
        "                  break\n",
        "          else:\n",
        "              self.passport_number = passport_number\n",
        "        else:\n",
        "            raise InvalidPassportNumber(\"Your passport number is invalid\")\n",
        "\n",
        "    def set_email_address(self, email_address):\n",
        "        regex = '[A-Za-z0-9.]+@[A-Za-z0-9.-]+\\.[A-Z|a-z]{2,}'\n",
        "        if(re.fullmatch(regex, email_address)):\n",
        "            self.email_address = email_address\n",
        "        else:\n",
        "            raise InvalidEmailAddress(\"Your email address is invalid\")\n",
        "\n",
        "    def set_birthday(self, birthday):\n",
        "        try:\n",
        "            self.birthday = datetime.strptime(birthday, '%d.%m.%Y')\n",
        "        except:\n",
        "            raise InvalidBirthday(\"Incorrect data format, should be dd.mm.yyyy\")\n",
        "\n",
        "    def get_age(self):\n",
        "        return datetime.today().year - self.birthday.year\n"
      ]
    },
    {
      "cell_type": "code",
      "execution_count": 18,
      "id": "286c3ddb",
      "metadata": {
        "id": "286c3ddb"
      },
      "outputs": [],
      "source": [
        "class InvalidName(Exception):\n",
        "    def __init__(self,value):\n",
        "        self.value = value\n",
        "    def __str__(self):\n",
        "        return self.value"
      ]
    },
    {
      "cell_type": "code",
      "source": [
        "class InvalidPassportNumber(Exception):\n",
        "    def __init__(self,value):\n",
        "        self.value = value\n",
        "    def __str__(self):\n",
        "        return self.value"
      ],
      "metadata": {
        "id": "SOQJN8S2hT-I"
      },
      "id": "SOQJN8S2hT-I",
      "execution_count": 19,
      "outputs": []
    },
    {
      "cell_type": "code",
      "source": [
        "class InvalidEmailAddress(Exception):\n",
        "    def __init__(self,value):\n",
        "        self.value = value\n",
        "    def __str__(self):\n",
        "        return self.value"
      ],
      "metadata": {
        "id": "AtdMJ3o9zjK1"
      },
      "id": "AtdMJ3o9zjK1",
      "execution_count": 20,
      "outputs": []
    },
    {
      "cell_type": "code",
      "source": [
        "class InvalidBirthday(Exception):\n",
        "    def __init__(self,value):\n",
        "        self.value = value\n",
        "    def __str__(self):\n",
        "        return self.value"
      ],
      "metadata": {
        "id": "kiWPs6-42MD_"
      },
      "id": "kiWPs6-42MD_",
      "execution_count": 21,
      "outputs": []
    },
    {
      "cell_type": "code",
      "source": [
        "try:\n",
        "    p1 = Person(\"ab123a56d\",'soe soe','1.1.1984','aungaung@gmail.com')\n",
        "    print(p1)\n",
        "    print(\"Hello! You are\",p1.get_age(),\"years old.\")\n",
        "except InvalidName as n:\n",
        "    print(n)\n",
        "except InvalidPassportNumber as p:\n",
        "    print(p)\n",
        "except InvalidEmailAddress as e:\n",
        "    print(e)\n",
        "except InvalidBirthday as b:\n",
        "    print(b)\n",
        "  "
      ],
      "metadata": {
        "id": "na93fD_Gel9G",
        "outputId": "7cb8b011-e822-4bff-c0d2-03560135ceb7",
        "colab": {
          "base_uri": "https://localhost:8080/"
        }
      },
      "id": "na93fD_Gel9G",
      "execution_count": 62,
      "outputs": [
        {
          "output_type": "stream",
          "name": "stdout",
          "text": [
            "Incorrect data format, should be dd.mm.yyyy\n"
          ]
        }
      ]
    }
  ],
  "metadata": {
    "kernelspec": {
      "display_name": "Python 3 (ipykernel)",
      "language": "python",
      "name": "python3"
    },
    "language_info": {
      "codemirror_mode": {
        "name": "ipython",
        "version": 3
      },
      "file_extension": ".py",
      "mimetype": "text/x-python",
      "name": "python",
      "nbconvert_exporter": "python",
      "pygments_lexer": "ipython3",
      "version": "3.10.8"
    },
    "colab": {
      "provenance": [],
      "include_colab_link": true
    }
  },
  "nbformat": 4,
  "nbformat_minor": 5
}